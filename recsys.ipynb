{
 "cells": [
  {
   "cell_type": "code",
   "execution_count": 1,
   "metadata": {
    "colab": {},
    "colab_type": "code",
    "id": "uA2Pablwo8u-"
   },
   "outputs": [],
   "source": [
    "import pandas as pd\n",
    "\n",
    "import matplotlib.pyplot as plt\n",
    "%matplotlib inline\n",
    "\n",
    "import string\n",
    "\n",
    "import nltk \n",
    "from nltk import pos_tag\n",
    "from nltk.tokenize import WhitespaceTokenizer\n",
    "from nltk.stem import WordNetLemmatizer\n",
    "from nltk.corpus import movie_reviews, stopwords,wordnet\n",
    "from nltk.sentiment.vader import SentimentIntensityAnalyzer\n",
    "from rake_nltk import Rake\n",
    "\n",
    "import numpy as np\n",
    "from numpy import arange,atleast_2d,argsort\n",
    "\n",
    "from collections import defaultdict\n",
    "\n",
    "from surprise import Reader, Dataset, SVD, accuracy\n",
    "from surprise.model_selection import train_test_split\n",
    "\n",
    "from sklearn.metrics.pairwise import cosine_similarity\n",
    "from sklearn.feature_extraction.text import CountVectorizer\n",
    "\n",
    "from ast import literal_eval"
   ]
  },
  {
   "cell_type": "code",
   "execution_count": 2,
   "metadata": {},
   "outputs": [],
   "source": [
    "helpfulCutOffRatings = 20\n",
    "reviewDataPath = 'amazon/vsmall.csv'\n",
    "metadataPath = 'amazon/vsmall_metadata.json'\n",
    "topN = 5"
   ]
  },
  {
   "cell_type": "code",
   "execution_count": 3,
   "metadata": {},
   "outputs": [],
   "source": [
    "def removeUnusedReviewInfo(rdata):\n",
    "    rdata = rdata.drop(['unixReviewTime','reviewTime','reviewerName'],axis=1)\n",
    "    return rdata\n",
    "    \n",
    "def createReviewerInfo(data):\n",
    "    reviewerInfo = data[['reviewerID', 'reviewerName']]\n",
    "    return reviewerInfo"
   ]
  },
  {
   "cell_type": "code",
   "execution_count": 4,
   "metadata": {},
   "outputs": [],
   "source": [
    "def createUserMovieMatrix(udata,mdata):\n",
    "    fullData = udata.merge(mdata, on='asin',how='outer')\n",
    "    userMovieMatrix = fullData.pivot_table(index='reviewerID', columns = 'asin',values = 'overall').reset_index().rename_axis(None, axis=1)\n",
    "    userMovieMatching = pd.crosstab(index = fullData['reviewerID'], columns=df['asin'],dropna = False)\n",
    "    userMovieMatrix = userMovieMatrix.replace(np.nan,0)\n",
    "    userMovieMatrix = userMovieMatrix.drop(['reviewerID'],axis = 1)\n",
    "    return userMovieMatrix, userMovieMatching\n"
   ]
  },
  {
   "cell_type": "code",
   "execution_count": 5,
   "metadata": {},
   "outputs": [],
   "source": [
    "# Classify data into negative or positive\n",
    "def classifyBaseReviewRating(x):\n",
    "    if x > 2.5:\n",
    "        return \"positive\"\n",
    "    if x == 2.5:\n",
    "        return \"neutral\"\n",
    "    if x < 2.5:\n",
    "        return \"negative\""
   ]
  },
  {
   "cell_type": "code",
   "execution_count": 6,
   "metadata": {},
   "outputs": [],
   "source": [
    "def cleanData(r):\n",
    "    r = str(r)\n",
    "    if len(r) == 0:\n",
    "        return ''\n",
    "    if type(r) == float:\n",
    "        return ''\n",
    "    return r"
   ]
  },
  {
   "cell_type": "code",
   "execution_count": 49,
   "metadata": {},
   "outputs": [],
   "source": [
    "def getWordnetType(tag):\n",
    "    if tag.startswith('J'):\n",
    "        return wordnet.ADJ\n",
    "    elif tag.startswith('V'):\n",
    "        return wordnet.VERB\n",
    "    elif tag.startswith('N'):\n",
    "        return wordnet.NOUN\n",
    "    elif tag.startswith('R'):\n",
    "        return wordnet.ADV\n",
    "    else:\n",
    "        return wordnet.NOUN\n",
    "\n",
    "def cleanReview(r):\n",
    "    r = str(r)\n",
    "    if len(r) == 0:\n",
    "        return ''\n",
    "    if type(r) == float:\n",
    "        return ''\n",
    "    r = r.lower()\n",
    "    #remove puncutation\n",
    "    r = [eachWord.strip(string.punctuation) for eachWord in r.split(\" \") ]\n",
    "    #remove numbers\n",
    "    r = [eachWord for eachWord in r if not any(l.isdigit() for l in eachWord)]\n",
    "    \n",
    "    #remove stop words\n",
    "    stop = stopwords.words('english')\n",
    "    r = [w for w in r if w not in stop]\n",
    "    \n",
    "    #remove words which are empty\n",
    "    r = [w for w in r if len(w) >0]\n",
    "    \n",
    "    #add pos_tags\n",
    "    pos_tags = pos_tag(r)\n",
    "    \n",
    "    #word lemmatize\n",
    "    r = [WordNetLemmatizer().lemmatize(t[0], getWordnetType(t[1])) for t in pos_tags]\n",
    "    \n",
    "    #remove useless words\n",
    "    r = [w for w in r if len(w) > 1]\n",
    "    \n",
    "    #recreate review\n",
    "    r = \" \".join(r)\n",
    "    return r\n",
    "\n",
    "# get compound score from VADER and append it as review rating\n",
    "def getSentimentScore(rdata):\n",
    "    sa = SentimentIntensityAnalyzer()\n",
    "    rdata[\"sentiments\"] = rdata[\"reviewText\"].apply(lambda x: sa.polarity_scores(x))\n",
    "    rdata = pd.concat([rdata.drop(['sentiments'], axis=1), rdata['sentiments'].apply(pd.Series)], axis=1)\n",
    "    rdata['helpful'] = rdata['helpful'].apply(lambda x: getHelpfulScore(x))\n",
    "    #compound score from VADER is from -1 to +1. Scaling it to 0 to 5 and multiplying it with helpfulness score\n",
    "    rdata['reviewRating'] = (1+(rdata['compound']+1)*2)\n",
    "#     rdata['reviewRating'] = (1+(rdata['compound']+1)*2) * rdata['helpful']\n",
    "    rdata = rdata.drop(['compound','pos','neg','neu'],axis = 1)\n",
    "    rdata = rdata.drop(['reviewText','helpful'],axis=1)\n",
    "    return rdata\n",
    "    "
   ]
  },
  {
   "cell_type": "code",
   "execution_count": 8,
   "metadata": {},
   "outputs": [],
   "source": [
    "def getHelpfulScore(x):\n",
    "    if x == None:\n",
    "        return 1.0\n",
    "    x = literal_eval(x)\n",
    "    a = float(x[0])\n",
    "    b = float(x[1])\n",
    "\n",
    "    if b != 0 and a + b > helpfulCutOffRatings-1:\n",
    "        return a / (a + b)\n",
    "    else:\n",
    "        return 1.0"
   ]
  },
  {
   "cell_type": "code",
   "execution_count": 9,
   "metadata": {},
   "outputs": [],
   "source": [
    "def generateSentimentScoreOnReviews(rdata):\n",
    "    reviewerInfo = createReviewerInfo(rdata)\n",
    "    rdata = removeUnusedReviewInfo(rdata)\n",
    "    rdata[\"reviewType\"] = rdata[\"overall\"].apply(classifyBaseReviewRating)\n",
    "    rdata['reviewText'] = rdata['reviewText'] + rdata['summary']\n",
    "    rdata = rdata.drop(['summary'],axis = 1)\n",
    "    rdata['reviewText'] = rdata['reviewText'].apply(cleanData)    \n",
    "    rdata['reviewText'] = rdata['reviewText'].apply(lambda x:cleanReview(x))\n",
    "    rdata = getSentimentScore(rdata)\n",
    "    return rdata\n"
   ]
  },
  {
   "cell_type": "code",
   "execution_count": 10,
   "metadata": {},
   "outputs": [],
   "source": [
    "def getMovieData(path):\n",
    "    return pd.read_json(path,lines=True,typ='frame')\n",
    "\n",
    "def preProcessMovieData(moviedata):\n",
    "    moviedata.sort_values(\"asin\",inplace=True)\n",
    "    moviedata.drop_duplicates(subset='asin',keep=False,inplace = True)\n",
    "    moviedata = moviedata.reset_index(drop=True)\n",
    "    moviedata = moviedata.drop(['rank','main_cat','image','also_buy','also_view','price','details','feature','date','tech1'],axis = 1,errors='ignore')\n",
    "    return moviedata\n",
    "\n"
   ]
  },
  {
   "cell_type": "code",
   "execution_count": 11,
   "metadata": {},
   "outputs": [],
   "source": [
    "def getCosineSimilarity(moviedata):\n",
    "    count = CountVectorizer()\n",
    "    count_matrix = count.fit_transform(moviedata['cleanText'])\n",
    "    # generating the cosine similarity matrix\n",
    "    cosine_sim = cosine_similarity(count_matrix, count_matrix)\n",
    "    return cosine_sim\n",
    "\n",
    "def getMovieSimilarityFromPlot(moviedata):\n",
    "    # initializing the new column\n",
    "    moviedata['impWords'] = ''\n",
    "    moviedata['cleanText'] = ''\n",
    "    for index, movie in moviedata.iterrows():\n",
    "        tot = ''\n",
    "        description = movie['description']\n",
    "        if description != None:\n",
    "            if type(description) != float:\n",
    "                if len(description) != 0:\n",
    "                    for i in description:\n",
    "                        if type(i) != str:\n",
    "                            print(description)\n",
    "                        tot = tot + i\n",
    "\n",
    "        #remove \"Movies & TV\", \"Genre for Featured Categories\", \"Movies\", \"Independently Distributed\", \"All Titles\", \"All\", \"4-for-3 DVD\", \n",
    "        ignoreWords = [\"Movies & TV\", \"Genre for Featured Categories\", \"Movies\", \"Independently Distributed\", \"All Titles\", \"All\", \"4-for-3 DVD\"]\n",
    "        category = movie['category']\n",
    "        if category != None:\n",
    "            if type(category) != float:\n",
    "                for w in category:\n",
    "                    if w not in ignoreWords:\n",
    "                        tot = tot+w\n",
    "        brand = movie['brand']\n",
    "        if brand != None:\n",
    "            if type(brand) != float:\n",
    "                tot = tot + i\n",
    "        r = Rake()\n",
    "        r.extract_keywords_from_text(tot)\n",
    "        # getting the dictionary whith key words as keys and their scores as values\n",
    "        key_words_dict_scores = r.get_word_degrees()\n",
    "\n",
    "        # assigning the key words to the new column for the corresponding movie\n",
    "        movie['impWords'] = list(key_words_dict_scores.keys())\n",
    "        movie['cleanText'] = \" \".join(map(str,movie['impWords']))\n",
    "    moviedata = moviedata.drop(['category','brand','description','impWords'],axis = 1)\n",
    "    cosine_sim =  getCosineSimilarity(moviedata)\n",
    "    moviedata = moviedata.drop(['cleanText'],axis = 1)\n",
    "    return cosine_sim, moviedata\n"
   ]
  },
  {
   "cell_type": "code",
   "execution_count": 12,
   "metadata": {},
   "outputs": [],
   "source": [
    "def getMovieAvgRating(moviedata,rdataf):\n",
    "    movieAvgRating = rdataf.groupby('asin')['overall'].agg(['mean', 'median', 'size'])\n",
    "    movieAvgRating.columns = ['rating_mean', 'rating_median', 'num_ratings']\n",
    "    return movieAvgRating\n"
   ]
  },
  {
   "cell_type": "code",
   "execution_count": 13,
   "metadata": {},
   "outputs": [],
   "source": [
    "def get_top3_recommendations(predictions, topN = 3):\n",
    "     \n",
    "    top_recs = defaultdict(list)\n",
    "    for uid, iid, true_r, est, _ in predictions:\n",
    "        top_recs[uid].append((iid, est))\n",
    "     \n",
    "    for uid, user_ratings in top_recs.items():\n",
    "        user_ratings.sort(key = lambda x: x[1], reverse = True)\n",
    "        top_recs[uid] = user_ratings[:topN]\n",
    "     \n",
    "    return top_recs\n",
    "\n",
    "def precision_recall_at_k(predictions, k=10, threshold=3.5):\n",
    "    '''Return precision and recall at k metrics for each user.'''\n",
    "\n",
    "    # First map the predictions to each user.\n",
    "    user_est_true = defaultdict(list)\n",
    "    for uid, _, true_r, est, _ in predictions:\n",
    "        user_est_true[uid].append((est, true_r))\n",
    "\n",
    "    precisions = dict()\n",
    "    recalls = dict()\n",
    "    for uid, user_ratings in user_est_true.items():\n",
    "\n",
    "        # Sort user ratings by estimated value\n",
    "        user_ratings.sort(key=lambda x: x[0], reverse=True)\n",
    "\n",
    "        # Number of relevant items\n",
    "        n_rel = sum((true_r >= threshold) for (_, true_r) in user_ratings)\n",
    "\n",
    "        # Number of recommended items in top k\n",
    "        n_rec_k = sum((est >= threshold) for (est, _) in user_ratings[:k])\n",
    "\n",
    "        # Number of relevant and recommended items in top k\n",
    "        n_rel_and_rec_k = sum(((true_r >= threshold) and (est >= threshold))\n",
    "                              for (est, true_r) in user_ratings[:k])\n",
    "\n",
    "        # Precision@K: Proportion of recommended items that are relevant\n",
    "        precisions[uid] = n_rel_and_rec_k / n_rec_k if n_rec_k != 0 else 1\n",
    "\n",
    "        # Recall@K: Proportion of relevant items that are recommended\n",
    "        recalls[uid] = n_rel_and_rec_k / n_rel if n_rel != 0 else 1\n",
    "\n",
    "    return precisions, recalls\n"
   ]
  },
  {
   "cell_type": "code",
   "execution_count": null,
   "metadata": {},
   "outputs": [],
   "source": []
  },
  {
   "cell_type": "code",
   "execution_count": 16,
   "metadata": {},
   "outputs": [],
   "source": [
    "def getPredictionFromMovieContent(moviedata, rdata, testSplit):\n",
    "    moviedata = preProcessMovieData(moviedata)\n",
    "    # craete cosine similarity matrix\n",
    "    cosine_sim, moviedata = getMovieSimilarityFromPlot(moviedata)\n",
    "    rdata, testdata = train_test_split(rdata, test_size=testSplit)\n",
    "#     userMovieMatrix = createUserMovieMatrix(rdata,moviedata)\n",
    "    rdata = rdata.merge(moviedata, on='asin',how='left')\n",
    "    movieAvgRating = getMovieAvgRating(moviedata,rdata)\n",
    "    movieAvgRating.columns = ['rating_mean', 'rating_median', 'num_ratings']\n",
    "    moviedata = moviedata.merge(movieAvgRating, on='asin',how='left')\n",
    "    \n",
    "    predictions = getUserRatingPredictionFromMovieContent(cosine_sim, rdata, testdata, moviedata)\n",
    "    return predictions"
   ]
  },
  {
   "cell_type": "code",
   "execution_count": 17,
   "metadata": {},
   "outputs": [],
   "source": [
    "def getUserRatingPredictionFromMovieContent(cosine_sim, rdata, testdata, moviedata):\n",
    "    userMovieMatrix,userMovieMatching = createUserMovieMatrix(rdata, moviedata)\n",
    "    sumUserMovieWeight = np.dot(userMovieMatrix, cosine_sim)\n",
    "    sumSimFoRM2M = np.dot(userMovieMatching, cosine_sim)\n",
    "    userMoviePredict = sumUserMovieWeight/sumSimFoRM2M\n",
    "    userMovieMatching = 1 - userMovieMatching\n",
    "    userMoviePredictMissingMovies = userMoviePredict * userMovieMatching\n",
    "    userMoviePredictMissingMovies = userMoviePredictMissingMovies.reset_index()\n",
    "    userMoviePredictMissingMovies = userMoviePredictMissingMovies.replace(0,np.nan)\n",
    "    userMoviePredictMissingMovies = pd.melt(userMoviePredictMissingMovies, id_vars='reviewerID', \n",
    "                                        value_vars=list(finRM.columns[1:]),\n",
    "                                        var_name='movie', \n",
    "                                        value_name='rating')\n",
    "    userMoviePredictMissingMovies = userMoviePredictMissingMovies[userMoviePredictMissingMovies['Rating'].notna()]\n",
    "    userMoviePredictMissingMovies = userMoviePredictMissingMovies.reset_index(drop=True)\n",
    "    userMoviePredictMissingMovies[key] = tuple(zip(userMoviePredictMissingMovies.reviewerID, \n",
    "                                                  userMoviePredictMissingMovies.movie))\n",
    "    predictions = pd.Series(userMoviePredictMissingMovies['rating'].values,index=df.key).to_dict()\n",
    "    return predictions"
   ]
  },
  {
   "cell_type": "code",
   "execution_count": null,
   "metadata": {},
   "outputs": [],
   "source": [
    "finRM\n",
    "finRM = finRM.replace(0,np.nan)\n",
    "\n",
    "finRM = pd.melt(finRM, id_vars='reviewerID', \n",
    "            value_vars=list(finRM.columns[1:]), # list of days of the week\n",
    "            var_name='movie', \n",
    "            value_name='Rating')\n",
    "df = finRM\n",
    "df = df[df['Rating'].notna()]\n",
    "df = df.reset_index(drop=True)\n",
    "df['c'] = tuple(zip(df.reviewerID,df.movie))\n",
    "pd.Series(df['Rating'].values,index=df.c).to_dict()"
   ]
  },
  {
   "cell_type": "code",
   "execution_count": 324,
   "metadata": {},
   "outputs": [
    {
     "data": {
      "text/plain": [
       "array([[3.66666667, 3.71428571, 3.28571429, 3.33333333],\n",
       "       [5.        , 5.        , 5.        , 5.        ]])"
      ]
     },
     "execution_count": 324,
     "metadata": {},
     "output_type": "execute_result"
    }
   ],
   "source": [
    "rsmall = pd.read_csv('vvsmall.csv', names=['reviewerID','asin','overall'], skiprows=1, sep=' ')\n",
    "meta = pd.read_json('vvsmall_medata.json',lines=True,typ='frame')\n",
    "meta\n",
    "rsmall\n",
    "df = rsmall.merge(meta, on='asin',how='outer')\n",
    "df\n",
    "\n",
    "df = rsmall.merge(meta, on='asin',how='outer')\n",
    "df.replace(np.nan,0)\n",
    "# user index \n",
    "dfBin = pd.crosstab(index=df['reviewerID'], columns=df['asin'],dropna = False)\n",
    "dfBin\n",
    "# df.pivot_table(index='reviewerID', columns = 'asin',values = 'overall').reset_index()\n",
    "tt = df.pivot_table( index='reviewerID',columns = 'asin',values = 'overall',dropna=False).reset_index().rename_axis(None, axis=1)\n",
    "tt\n",
    "tt = tt.replace(np.nan,0)\n",
    "tt = tt.drop(['reviewerID'],axis = 1)\n",
    "tt\n",
    "cosTest = np.array([[1, 0.5, 0.25,0.25], [0.5, 1, 0.4,0.3],[0.25,0.4,1,0.6],[0.25,0.3,0.6,1]])\n",
    "m2mCosim = pd.DataFrame(cosTest)\n",
    "m2mCosim\n",
    "mul = np.dot(tt,m2mCosim)\n",
    "binMul = np.dot(dfBin,m2mCosim)\n",
    "binMul\n",
    "\n",
    "finR = mul/binMul\n",
    "finR\n"
   ]
  },
  {
   "cell_type": "code",
   "execution_count": 327,
   "metadata": {},
   "outputs": [],
   "source": [
    "dfBin = 1-dfBin"
   ]
  },
  {
   "cell_type": "code",
   "execution_count": 385,
   "metadata": {},
   "outputs": [],
   "source": [
    "# dfBin\n"
   ]
  },
  {
   "cell_type": "code",
   "execution_count": 503,
   "metadata": {},
   "outputs": [],
   "source": [
    "finRM = dfBin * finR"
   ]
  },
  {
   "cell_type": "code",
   "execution_count": 504,
   "metadata": {},
   "outputs": [],
   "source": [
    "finRM = finRM.reset_index()"
   ]
  },
  {
   "cell_type": "code",
   "execution_count": 505,
   "metadata": {},
   "outputs": [
    {
     "data": {
      "text/plain": [
       "{('u1', 'm1'): 3.6666666666666665,\n",
       " ('u2', 'm2'): 5.0,\n",
       " ('u2', 'm3'): 5.0,\n",
       " ('u1', 'm4'): 3.3333333333333335,\n",
       " ('u2', 'm4'): 5.0}"
      ]
     },
     "execution_count": 505,
     "metadata": {},
     "output_type": "execute_result"
    }
   ],
   "source": [
    "finRM\n",
    "finRM = finRM.replace(0,np.nan)\n",
    "\n",
    "finRM = pd.melt(finRM, id_vars='reviewerID', \n",
    "            value_vars=list(finRM.columns[1:]), # list of days of the week\n",
    "            var_name='movie', \n",
    "            value_name='Rating')\n",
    "df = finRM\n",
    "df = df[df['Rating'].notna()]\n",
    "df = df.reset_index(drop=True)\n",
    "df['c'] = tuple(zip(df.reviewerID,df.movie))\n",
    "pd.Series(df['Rating'].values,index=df.c).to_dict()"
   ]
  },
  {
   "cell_type": "code",
   "execution_count": 398,
   "metadata": {},
   "outputs": [
    {
     "data": {
      "text/html": [
       "<div>\n",
       "<style scoped>\n",
       "    .dataframe tbody tr th:only-of-type {\n",
       "        vertical-align: middle;\n",
       "    }\n",
       "\n",
       "    .dataframe tbody tr th {\n",
       "        vertical-align: top;\n",
       "    }\n",
       "\n",
       "    .dataframe thead th {\n",
       "        text-align: right;\n",
       "    }\n",
       "</style>\n",
       "<table border=\"1\" class=\"dataframe\">\n",
       "  <thead>\n",
       "    <tr style=\"text-align: right;\">\n",
       "      <th>asin</th>\n",
       "      <th>m1</th>\n",
       "      <th>m2</th>\n",
       "      <th>m3</th>\n",
       "      <th>m4</th>\n",
       "    </tr>\n",
       "  </thead>\n",
       "  <tbody>\n",
       "    <tr>\n",
       "      <th>0</th>\n",
       "      <td>3.666667</td>\n",
       "      <td>0.0</td>\n",
       "      <td>0.0</td>\n",
       "      <td>3.333333</td>\n",
       "    </tr>\n",
       "    <tr>\n",
       "      <th>1</th>\n",
       "      <td>0.000000</td>\n",
       "      <td>5.0</td>\n",
       "      <td>5.0</td>\n",
       "      <td>5.000000</td>\n",
       "    </tr>\n",
       "  </tbody>\n",
       "</table>\n",
       "</div>"
      ],
      "text/plain": [
       "asin        m1   m2   m3        m4\n",
       "0     3.666667  0.0  0.0  3.333333\n",
       "1     0.000000  5.0  5.0  5.000000"
      ]
     },
     "execution_count": 398,
     "metadata": {},
     "output_type": "execute_result"
    }
   ],
   "source": [
    "# ttt= finRM.drop(['reviewerID'],axis=1)\n",
    "# ttt"
   ]
  },
  {
   "cell_type": "code",
   "execution_count": 445,
   "metadata": {},
   "outputs": [],
   "source": [
    "# finRM.loc[0,'reviewerID']"
   ]
  },
  {
   "cell_type": "code",
   "execution_count": 444,
   "metadata": {},
   "outputs": [],
   "source": [
    "# c = finRM.columns\n",
    "# list(c)[1:]"
   ]
  },
  {
   "cell_type": "code",
   "execution_count": 443,
   "metadata": {},
   "outputs": [],
   "source": [
    "# finRM.to_dict()"
   ]
  },
  {
   "cell_type": "code",
   "execution_count": 447,
   "metadata": {},
   "outputs": [],
   "source": [
    "# finRM.columns()"
   ]
  },
  {
   "cell_type": "code",
   "execution_count": 469,
   "metadata": {},
   "outputs": [
    {
     "data": {
      "text/html": [
       "<div>\n",
       "<style scoped>\n",
       "    .dataframe tbody tr th:only-of-type {\n",
       "        vertical-align: middle;\n",
       "    }\n",
       "\n",
       "    .dataframe tbody tr th {\n",
       "        vertical-align: top;\n",
       "    }\n",
       "\n",
       "    .dataframe thead th {\n",
       "        text-align: right;\n",
       "    }\n",
       "</style>\n",
       "<table border=\"1\" class=\"dataframe\">\n",
       "  <thead>\n",
       "    <tr style=\"text-align: right;\">\n",
       "      <th></th>\n",
       "      <th>reviewerID</th>\n",
       "      <th>movie</th>\n",
       "      <th>Rating</th>\n",
       "    </tr>\n",
       "  </thead>\n",
       "  <tbody>\n",
       "    <tr>\n",
       "      <th>0</th>\n",
       "      <td>u1</td>\n",
       "      <td>m1</td>\n",
       "      <td>3.666667</td>\n",
       "    </tr>\n",
       "    <tr>\n",
       "      <th>3</th>\n",
       "      <td>u2</td>\n",
       "      <td>m2</td>\n",
       "      <td>5.000000</td>\n",
       "    </tr>\n",
       "    <tr>\n",
       "      <th>5</th>\n",
       "      <td>u2</td>\n",
       "      <td>m3</td>\n",
       "      <td>5.000000</td>\n",
       "    </tr>\n",
       "    <tr>\n",
       "      <th>6</th>\n",
       "      <td>u1</td>\n",
       "      <td>m4</td>\n",
       "      <td>3.333333</td>\n",
       "    </tr>\n",
       "    <tr>\n",
       "      <th>7</th>\n",
       "      <td>u2</td>\n",
       "      <td>m4</td>\n",
       "      <td>5.000000</td>\n",
       "    </tr>\n",
       "  </tbody>\n",
       "</table>\n",
       "</div>"
      ],
      "text/plain": [
       "  reviewerID movie    Rating\n",
       "0         u1    m1  3.666667\n",
       "3         u2    m2  5.000000\n",
       "5         u2    m3  5.000000\n",
       "6         u1    m4  3.333333\n",
       "7         u2    m4  5.000000"
      ]
     },
     "execution_count": 469,
     "metadata": {},
     "output_type": "execute_result"
    }
   ],
   "source": [
    "# finRM.set_index('reviewerID',inplace=True)\n",
    "finRM = finRM.replace(0,np.nan)\n",
    "\n",
    "finRM = pd.melt(finRM, id_vars='reviewerID', \n",
    "            value_vars=list(finRM.columns[1:]), # list of days of the week\n",
    "            var_name='movie', \n",
    "            value_name='Rating')\n",
    "df = finRM\n",
    "df = df[df['Rating'].notna()]\n",
    "df"
   ]
  },
  {
   "cell_type": "code",
   "execution_count": 470,
   "metadata": {},
   "outputs": [],
   "source": [
    "df = df.reset_index(drop=True)"
   ]
  },
  {
   "cell_type": "code",
   "execution_count": 494,
   "metadata": {},
   "outputs": [],
   "source": [
    "df['c'] = tuple(zip(df.reviewerID,df.movie))\n"
   ]
  },
  {
   "cell_type": "code",
   "execution_count": 496,
   "metadata": {},
   "outputs": [
    {
     "data": {
      "text/plain": [
       "{('u1', 'm1'): 3.6666666666666665,\n",
       " ('u2', 'm2'): 5.0,\n",
       " ('u2', 'm3'): 5.0,\n",
       " ('u1', 'm4'): 3.3333333333333335,\n",
       " ('u2', 'm4'): 5.0}"
      ]
     },
     "execution_count": 496,
     "metadata": {},
     "output_type": "execute_result"
    }
   ],
   "source": [
    "pd.Series(df['Rating'].values,index=df.c).to_dict()"
   ]
  },
  {
   "cell_type": "code",
   "execution_count": 487,
   "metadata": {},
   "outputs": [
    {
     "data": {
      "text/plain": [
       "<zip at 0x128d3e5c8>"
      ]
     },
     "execution_count": 487,
     "metadata": {},
     "output_type": "execute_result"
    }
   ],
   "source": [
    "zip((df.reviewerID, df.movie),df.Rating)"
   ]
  },
  {
   "cell_type": "code",
   "execution_count": 402,
   "metadata": {},
   "outputs": [
    {
     "name": "stdout",
     "output_type": "stream",
     "text": [
      "0 m1\n",
      "1 m2\n",
      "2 m3\n",
      "3 m4\n"
     ]
    }
   ],
   "source": [
    "# finRM.loc[i,'reviewerID']\n",
    "for i,j in enumerate(ttt.columns):\n",
    "    print(finRM.loc[i,'reviewerID'])\n",
    "    print(i,j)"
   ]
  },
  {
   "cell_type": "code",
   "execution_count": 403,
   "metadata": {},
   "outputs": [
    {
     "name": "stdout",
     "output_type": "stream",
     "text": [
      "('reviewerID', 0    u1\n",
      "1    u2\n",
      "Name: reviewerID, dtype: object)\n",
      "('m1', 0    3.666667\n",
      "1    0.000000\n",
      "Name: m1, dtype: float64)\n",
      "('m2', 0    0.0\n",
      "1    5.0\n",
      "Name: m2, dtype: float64)\n",
      "('m3', 0    0.0\n",
      "1    5.0\n",
      "Name: m3, dtype: float64)\n",
      "('m4', 0    3.333333\n",
      "1    5.000000\n",
      "Name: m4, dtype: float64)\n"
     ]
    }
   ],
   "source": [
    "for i in finRM.items():\n",
    "    print(i)"
   ]
  },
  {
   "cell_type": "code",
   "execution_count": 350,
   "metadata": {},
   "outputs": [],
   "source": [
    "u = finRM['reviewerID']"
   ]
  },
  {
   "cell_type": "code",
   "execution_count": 365,
   "metadata": {},
   "outputs": [
    {
     "data": {
      "text/html": [
       "<div>\n",
       "<style scoped>\n",
       "    .dataframe tbody tr th:only-of-type {\n",
       "        vertical-align: middle;\n",
       "    }\n",
       "\n",
       "    .dataframe tbody tr th {\n",
       "        vertical-align: top;\n",
       "    }\n",
       "\n",
       "    .dataframe thead th {\n",
       "        text-align: right;\n",
       "    }\n",
       "</style>\n",
       "<table border=\"1\" class=\"dataframe\">\n",
       "  <thead>\n",
       "    <tr style=\"text-align: right;\">\n",
       "      <th></th>\n",
       "      <th>reviewerID</th>\n",
       "    </tr>\n",
       "  </thead>\n",
       "  <tbody>\n",
       "    <tr>\n",
       "      <th>0</th>\n",
       "      <td>u1</td>\n",
       "    </tr>\n",
       "    <tr>\n",
       "      <th>1</th>\n",
       "      <td>u2</td>\n",
       "    </tr>\n",
       "  </tbody>\n",
       "</table>\n",
       "</div>"
      ],
      "text/plain": [
       "  reviewerID\n",
       "0         u1\n",
       "1         u2"
      ]
     },
     "execution_count": 365,
     "metadata": {},
     "output_type": "execute_result"
    }
   ],
   "source": [
    "ut = pd.DataFrame(u)\n",
    "ut"
   ]
  },
  {
   "cell_type": "code",
   "execution_count": 346,
   "metadata": {},
   "outputs": [],
   "source": [
    "finRM = finRM.drop(['reviewerID'],axis=1)"
   ]
  },
  {
   "cell_type": "code",
   "execution_count": 366,
   "metadata": {},
   "outputs": [
    {
     "data": {
      "text/html": [
       "<div>\n",
       "<style scoped>\n",
       "    .dataframe tbody tr th:only-of-type {\n",
       "        vertical-align: middle;\n",
       "    }\n",
       "\n",
       "    .dataframe tbody tr th {\n",
       "        vertical-align: top;\n",
       "    }\n",
       "\n",
       "    .dataframe thead th {\n",
       "        text-align: right;\n",
       "    }\n",
       "</style>\n",
       "<table border=\"1\" class=\"dataframe\">\n",
       "  <thead>\n",
       "    <tr style=\"text-align: right;\">\n",
       "      <th></th>\n",
       "      <th>0</th>\n",
       "      <th>1</th>\n",
       "    </tr>\n",
       "    <tr>\n",
       "      <th>asin</th>\n",
       "      <th></th>\n",
       "      <th></th>\n",
       "    </tr>\n",
       "  </thead>\n",
       "  <tbody>\n",
       "    <tr>\n",
       "      <th>m1</th>\n",
       "      <td>3.666667</td>\n",
       "      <td>0.0</td>\n",
       "    </tr>\n",
       "    <tr>\n",
       "      <th>m2</th>\n",
       "      <td>0.000000</td>\n",
       "      <td>5.0</td>\n",
       "    </tr>\n",
       "    <tr>\n",
       "      <th>m3</th>\n",
       "      <td>0.000000</td>\n",
       "      <td>5.0</td>\n",
       "    </tr>\n",
       "    <tr>\n",
       "      <th>m4</th>\n",
       "      <td>3.333333</td>\n",
       "      <td>5.0</td>\n",
       "    </tr>\n",
       "  </tbody>\n",
       "</table>\n",
       "</div>"
      ],
      "text/plain": [
       "             0    1\n",
       "asin               \n",
       "m1    3.666667  0.0\n",
       "m2    0.000000  5.0\n",
       "m3    0.000000  5.0\n",
       "m4    3.333333  5.0"
      ]
     },
     "execution_count": 366,
     "metadata": {},
     "output_type": "execute_result"
    }
   ],
   "source": [
    "mt = pd.DataFrame(finRM.T)\n",
    "mt"
   ]
  },
  {
   "cell_type": "code",
   "execution_count": 374,
   "metadata": {},
   "outputs": [
    {
     "data": {
      "text/html": [
       "<div>\n",
       "<style scoped>\n",
       "    .dataframe tbody tr th:only-of-type {\n",
       "        vertical-align: middle;\n",
       "    }\n",
       "\n",
       "    .dataframe tbody tr th {\n",
       "        vertical-align: top;\n",
       "    }\n",
       "\n",
       "    .dataframe thead th {\n",
       "        text-align: right;\n",
       "    }\n",
       "</style>\n",
       "<table border=\"1\" class=\"dataframe\">\n",
       "  <thead>\n",
       "    <tr style=\"text-align: right;\">\n",
       "      <th></th>\n",
       "      <th>reviewerID</th>\n",
       "      <th>0</th>\n",
       "      <th>1</th>\n",
       "    </tr>\n",
       "  </thead>\n",
       "  <tbody>\n",
       "  </tbody>\n",
       "</table>\n",
       "</div>"
      ],
      "text/plain": [
       "Empty DataFrame\n",
       "Columns: [reviewerID, 0, 1]\n",
       "Index: []"
      ]
     },
     "execution_count": 374,
     "metadata": {},
     "output_type": "execute_result"
    }
   ],
   "source": [
    "# pd.merge(ut, mt, left_index=True, right_index=True)\n",
    "pd.merge(ut, mt, left_index=True, right_index=True)\n",
    "# pd.merge(mt,ut,on='')\n"
   ]
  },
  {
   "cell_type": "code",
   "execution_count": null,
   "metadata": {},
   "outputs": [],
   "source": []
  },
  {
   "cell_type": "code",
   "execution_count": null,
   "metadata": {},
   "outputs": [],
   "source": [
    "# m2mCosim = pd.DataFrame(cosine_sim)\n",
    "# indexWithMovieId = moviedata['asin']\n",
    "# m2mCosim.columns = [str(indexWithMovieId[int(col)]) for col in m2mCosim.columns]\n",
    "# m2mCosim.index = [indexWithMovieId[idx] for idx in m2mCosim.index]\n",
    "# # m2mCosim.iloc[0].sort_values(ascending=False)[:10]\n",
    "# userRatings = rdataf[rdataf.reviewerID == 'A1GHUN5HXMHZ89']\n",
    "# userRatings.head(2)\n",
    "# userDataWithScore = moviedata.reset_index().merge(userRatings, on='asin')\n",
    "\n",
    "# userDataWithScore['weight'] = userDataWithScore['overall']/5\n",
    "# # df_user_data_with_tags['weight'].values\n",
    "# # df_user_data_with_tags\n",
    "# user_profile = np.dot(count_matrix[userDataWithScore['index'].values].toarray().T, userDataWithScore['weight'].values)\n",
    "# C = cosine_similarity(atleast_2d(user_profile), count_matrix)\n",
    "# R = argsort(C)[:, ::-1]\n",
    "# recommendations = [i for i in R[0] if i not in userDataWithScore['index'].values]\n",
    "# rdataf['asin'][recommendations].head(10)\n"
   ]
  },
  {
   "cell_type": "code",
   "execution_count": null,
   "metadata": {},
   "outputs": [],
   "source": []
  },
  {
   "cell_type": "code",
   "execution_count": null,
   "metadata": {},
   "outputs": [],
   "source": []
  },
  {
   "cell_type": "code",
   "execution_count": null,
   "metadata": {},
   "outputs": [],
   "source": []
  },
  {
   "cell_type": "code",
   "execution_count": null,
   "metadata": {},
   "outputs": [],
   "source": []
  },
  {
   "cell_type": "code",
   "execution_count": 21,
   "metadata": {},
   "outputs": [],
   "source": [
    "# Based on field in and type\n",
    "def getSurpriseRatingPrediction(data, ratingCol, testSplit, algo, userBased):\n",
    "    ratings_dict = {'itemID': list(data.asin),\n",
    "                'userID': list(data.reviewerID),\n",
    "                'rating': list(data[ratingCol])}\n",
    "    df = pd.DataFrame(ratings_dict)\n",
    "    \n",
    "    # A reader is still needed but only the rating_scale param is required.\n",
    "    # The Reader class is used to parse a file containing ratings.\n",
    "    reader = Reader(rating_scale=(0.5, 5.0))\n",
    "    # The columns must correspond to user id, item id and ratings (in that order).\n",
    "    data = Dataset.load_from_df(df[['userID', 'itemID', 'rating']], reader)\n",
    "    trainset, testset = train_test_split(data, test_size=testSplit)\n",
    "    if algo == 'svd':\n",
    "        algo = SVD()\n",
    "    elif algo == 'knn':\n",
    "        sim_options = {'name': 'cosine',\n",
    "               'user_based': userBased\n",
    "               }\n",
    "        algo = algo = KNNBaseline(sim_options=sim_options)\n",
    "    algo.fit(trainset)\n",
    "    print('mean',trainset.global_mean)\n",
    "    predictions = algo.test(testset)\n",
    "    return predictions\n",
    "    "
   ]
  },
  {
   "cell_type": "code",
   "execution_count": 29,
   "metadata": {},
   "outputs": [],
   "source": [
    "def getPredictions(rdata, moviedata, testSplit, topN):\n",
    "    # get SVD predictions\n",
    "    svdPredictions = getSurpriseRatingPrediction(rdata, 'overall', testSplit, 'svd', False )\n",
    "    \n",
    "    #get Knn user based predictions based on ratings\n",
    "    userBasedKNNPredictions = getSurpriseRatingPrediction(rdata, 'overall', testSplit, 'knn', True)\n",
    "    \n",
    "    #get Knn movie based predictions based on ratings\n",
    "    ratingBasedKNNPredictions = getSurpriseRatingPrediction(rdata, 'overall', testSplit, 'knn', False)\n",
    "    \n",
    "    #get Knn movie based predictions based on reviews\n",
    "    rdata = generateSentimentScoreOnReviews(rdata)\n",
    "    reviewBasedKNNPredictions = getSurpriseRatingPrediction(rdata, 'reviewRating', testSplit, 'knn', False)\n",
    "    \n",
    "    #get content based predictions\n",
    "    contentBasedPredictions = getPredictionFromMovieContent(moviedata, rdata, testSplit)\n",
    "    \n",
    "    topNRec = getFinalRec(svdPredictions, userBasedKNNPredictions,\n",
    "                                           ratingBasedKNNPredictions, reviewBasedKNNPredictions,\n",
    "                                          contentBasedPredictions, topN)\n",
    "    return topNRec\n",
    "    \n",
    "    "
   ]
  },
  {
   "cell_type": "code",
   "execution_count": 30,
   "metadata": {},
   "outputs": [],
   "source": [
    "# Combine all the predictions score by weighted average\n",
    "def combinePredictions(svdPredictions, userBasedKNNPredictions,\n",
    "                                           ratingBasedKNNPredictions, reviewBasedKNNPredictions,\n",
    "                                          contentBasedPredictions):\n",
    "    svdPredictionsNew = defaultdict(list)\n",
    "    for uid, iid, true_r, est, _ in svdPredictions:\n",
    "            svdPredictionsNew[uid].append((iid, est))\n",
    "    \n",
    "    \n",
    "    userBasedKNNPredictionsNew = defaultdict(list)\n",
    "    for uid, iid, true_r, est, _ in userBasedKNNPredictions:\n",
    "            userBasedKNNPredictionsNew[uid].append((iid, est))\n",
    "            \n",
    "    \n",
    "    ratingBasedKNNPredictionsNew = defaultdict(list)\n",
    "    for uid, iid, true_r, est, _ in ratingBasedKNNPredictions:\n",
    "            ratingBasedKNNPredictionsNew[uid].append((iid, est))\n",
    "    \n",
    "    \n",
    "    reviewBasedKNNPredictionsNew = defaultdict(list)\n",
    "    for uid, iid, true_r, est, _ in reviewBasedKNNPredictions:\n",
    "            reviewBasedKNNPredictionsNew[uid].append((iid, est))\n",
    "    \n",
    "    # contentBasedPredictions is already of the form like above\n",
    "    # TODO: add scores of different methods and recommend\n",
    "    \n",
    "    return top_recs\n",
    "    "
   ]
  },
  {
   "cell_type": "code",
   "execution_count": 31,
   "metadata": {},
   "outputs": [],
   "source": [
    "def getFinalRec(svdPredictions, userBasedKNNPredictions,\n",
    "                                           ratingBasedKNNPredictions, reviewBasedKNNPredictions,\n",
    "                                          contentBasedPredictions, topN):\n",
    "    \n",
    "    predictions = combinePredictions(svdPredictions, userBasedKNNPredictions,\n",
    "                                           ratingBasedKNNPredictions, reviewBasedKNNPredictions,\n",
    "                                          contentBasedPredictions)\n",
    "    \n",
    "    for uid, user_ratings in top_recs.items():\n",
    "        user_ratings.sort(key = lambda x: x[1], reverse = True)\n",
    "        top_recs[uid] = user_ratings[:topN]we\n",
    "    return top_recs\n",
    "    "
   ]
  },
  {
   "cell_type": "code",
   "execution_count": 32,
   "metadata": {},
   "outputs": [],
   "source": []
  },
  {
   "cell_type": "code",
   "execution_count": 64,
   "metadata": {},
   "outputs": [],
   "source": []
  },
  {
   "cell_type": "code",
   "execution_count": 78,
   "metadata": {},
   "outputs": [],
   "source": []
  },
  {
   "cell_type": "code",
   "execution_count": 91,
   "metadata": {},
   "outputs": [],
   "source": []
  },
  {
   "cell_type": "code",
   "execution_count": null,
   "metadata": {},
   "outputs": [],
   "source": []
  },
  {
   "cell_type": "code",
   "execution_count": null,
   "metadata": {},
   "outputs": [],
   "source": []
  },
  {
   "cell_type": "code",
   "execution_count": null,
   "metadata": {},
   "outputs": [],
   "source": []
  },
  {
   "cell_type": "code",
   "execution_count": null,
   "metadata": {},
   "outputs": [],
   "source": []
  },
  {
   "cell_type": "code",
   "execution_count": 275,
   "metadata": {},
   "outputs": [
    {
     "data": {
      "text/html": [
       "<div>\n",
       "<style scoped>\n",
       "    .dataframe tbody tr th:only-of-type {\n",
       "        vertical-align: middle;\n",
       "    }\n",
       "\n",
       "    .dataframe tbody tr th {\n",
       "        vertical-align: top;\n",
       "    }\n",
       "\n",
       "    .dataframe thead th {\n",
       "        text-align: right;\n",
       "    }\n",
       "</style>\n",
       "<table border=\"1\" class=\"dataframe\">\n",
       "  <thead>\n",
       "    <tr style=\"text-align: right;\">\n",
       "      <th></th>\n",
       "      <th>reviewerID</th>\n",
       "      <th>asin</th>\n",
       "      <th>overall</th>\n",
       "      <th>title</th>\n",
       "    </tr>\n",
       "  </thead>\n",
       "  <tbody>\n",
       "    <tr>\n",
       "      <th>0</th>\n",
       "      <td>u1</td>\n",
       "      <td>m2</td>\n",
       "      <td>4.0</td>\n",
       "      <td>m2</td>\n",
       "    </tr>\n",
       "    <tr>\n",
       "      <th>1</th>\n",
       "      <td>u2</td>\n",
       "      <td>m1</td>\n",
       "      <td>5.0</td>\n",
       "      <td>m1</td>\n",
       "    </tr>\n",
       "    <tr>\n",
       "      <th>2</th>\n",
       "      <td>u1</td>\n",
       "      <td>m3</td>\n",
       "      <td>3.0</td>\n",
       "      <td>m3</td>\n",
       "    </tr>\n",
       "    <tr>\n",
       "      <th>3</th>\n",
       "      <td>0</td>\n",
       "      <td>m4</td>\n",
       "      <td>0.0</td>\n",
       "      <td>m4</td>\n",
       "    </tr>\n",
       "  </tbody>\n",
       "</table>\n",
       "</div>"
      ],
      "text/plain": [
       "  reviewerID asin  overall title\n",
       "0         u1   m2      4.0    m2\n",
       "1         u2   m1      5.0    m1\n",
       "2         u1   m3      3.0    m3\n",
       "3          0   m4      0.0    m4"
      ]
     },
     "execution_count": 275,
     "metadata": {},
     "output_type": "execute_result"
    }
   ],
   "source": []
  },
  {
   "cell_type": "code",
   "execution_count": 262,
   "metadata": {},
   "outputs": [
    {
     "data": {
      "text/html": [
       "<div>\n",
       "<style scoped>\n",
       "    .dataframe tbody tr th:only-of-type {\n",
       "        vertical-align: middle;\n",
       "    }\n",
       "\n",
       "    .dataframe tbody tr th {\n",
       "        vertical-align: top;\n",
       "    }\n",
       "\n",
       "    .dataframe thead th {\n",
       "        text-align: right;\n",
       "    }\n",
       "</style>\n",
       "<table border=\"1\" class=\"dataframe\">\n",
       "  <thead>\n",
       "    <tr style=\"text-align: right;\">\n",
       "      <th></th>\n",
       "      <th>reviewerID</th>\n",
       "      <th>asin</th>\n",
       "      <th>overall</th>\n",
       "    </tr>\n",
       "  </thead>\n",
       "  <tbody>\n",
       "    <tr>\n",
       "      <th>0</th>\n",
       "      <td>u1</td>\n",
       "      <td>m2</td>\n",
       "      <td>4</td>\n",
       "    </tr>\n",
       "    <tr>\n",
       "      <th>1</th>\n",
       "      <td>u2</td>\n",
       "      <td>m1</td>\n",
       "      <td>5</td>\n",
       "    </tr>\n",
       "    <tr>\n",
       "      <th>2</th>\n",
       "      <td>u1</td>\n",
       "      <td>m3</td>\n",
       "      <td>3</td>\n",
       "    </tr>\n",
       "  </tbody>\n",
       "</table>\n",
       "</div>"
      ],
      "text/plain": [
       "  reviewerID asin  overall\n",
       "0         u1   m2        4\n",
       "1         u2   m1        5\n",
       "2         u1   m3        3"
      ]
     },
     "execution_count": 262,
     "metadata": {},
     "output_type": "execute_result"
    }
   ],
   "source": []
  },
  {
   "cell_type": "code",
   "execution_count": 263,
   "metadata": {},
   "outputs": [
    {
     "data": {
      "text/html": [
       "<div>\n",
       "<style scoped>\n",
       "    .dataframe tbody tr th:only-of-type {\n",
       "        vertical-align: middle;\n",
       "    }\n",
       "\n",
       "    .dataframe tbody tr th {\n",
       "        vertical-align: top;\n",
       "    }\n",
       "\n",
       "    .dataframe thead th {\n",
       "        text-align: right;\n",
       "    }\n",
       "</style>\n",
       "<table border=\"1\" class=\"dataframe\">\n",
       "  <thead>\n",
       "    <tr style=\"text-align: right;\">\n",
       "      <th></th>\n",
       "      <th>reviewerID</th>\n",
       "      <th>asin</th>\n",
       "      <th>overall</th>\n",
       "      <th>title</th>\n",
       "    </tr>\n",
       "  </thead>\n",
       "  <tbody>\n",
       "    <tr>\n",
       "      <th>0</th>\n",
       "      <td>u1</td>\n",
       "      <td>m2</td>\n",
       "      <td>4.0</td>\n",
       "      <td>m2</td>\n",
       "    </tr>\n",
       "    <tr>\n",
       "      <th>1</th>\n",
       "      <td>u2</td>\n",
       "      <td>m1</td>\n",
       "      <td>5.0</td>\n",
       "      <td>m1</td>\n",
       "    </tr>\n",
       "    <tr>\n",
       "      <th>2</th>\n",
       "      <td>u1</td>\n",
       "      <td>m3</td>\n",
       "      <td>3.0</td>\n",
       "      <td>m3</td>\n",
       "    </tr>\n",
       "    <tr>\n",
       "      <th>3</th>\n",
       "      <td>0</td>\n",
       "      <td>m4</td>\n",
       "      <td>0.0</td>\n",
       "      <td>m4</td>\n",
       "    </tr>\n",
       "  </tbody>\n",
       "</table>\n",
       "</div>"
      ],
      "text/plain": [
       "  reviewerID asin  overall title\n",
       "0         u1   m2      4.0    m2\n",
       "1         u2   m1      5.0    m1\n",
       "2         u1   m3      3.0    m3\n",
       "3          0   m4      0.0    m4"
      ]
     },
     "execution_count": 263,
     "metadata": {},
     "output_type": "execute_result"
    }
   ],
   "source": [
    "\n"
   ]
  },
  {
   "cell_type": "code",
   "execution_count": 283,
   "metadata": {},
   "outputs": [
    {
     "data": {
      "text/html": [
       "<div>\n",
       "<style scoped>\n",
       "    .dataframe tbody tr th:only-of-type {\n",
       "        vertical-align: middle;\n",
       "    }\n",
       "\n",
       "    .dataframe tbody tr th {\n",
       "        vertical-align: top;\n",
       "    }\n",
       "\n",
       "    .dataframe thead th {\n",
       "        text-align: right;\n",
       "    }\n",
       "</style>\n",
       "<table border=\"1\" class=\"dataframe\">\n",
       "  <thead>\n",
       "    <tr style=\"text-align: right;\">\n",
       "      <th></th>\n",
       "      <th>reviewerID</th>\n",
       "      <th>asin</th>\n",
       "      <th>overall</th>\n",
       "      <th>title</th>\n",
       "    </tr>\n",
       "  </thead>\n",
       "  <tbody>\n",
       "    <tr>\n",
       "      <th>0</th>\n",
       "      <td>u1</td>\n",
       "      <td>m2</td>\n",
       "      <td>4.0</td>\n",
       "      <td>m2</td>\n",
       "    </tr>\n",
       "    <tr>\n",
       "      <th>1</th>\n",
       "      <td>u2</td>\n",
       "      <td>m1</td>\n",
       "      <td>5.0</td>\n",
       "      <td>m1</td>\n",
       "    </tr>\n",
       "    <tr>\n",
       "      <th>2</th>\n",
       "      <td>u1</td>\n",
       "      <td>m3</td>\n",
       "      <td>3.0</td>\n",
       "      <td>m3</td>\n",
       "    </tr>\n",
       "    <tr>\n",
       "      <th>3</th>\n",
       "      <td>NaN</td>\n",
       "      <td>m4</td>\n",
       "      <td>NaN</td>\n",
       "      <td>m4</td>\n",
       "    </tr>\n",
       "  </tbody>\n",
       "</table>\n",
       "</div>"
      ],
      "text/plain": [
       "  reviewerID asin  overall title\n",
       "0         u1   m2      4.0    m2\n",
       "1         u2   m1      5.0    m1\n",
       "2         u1   m3      3.0    m3\n",
       "3        NaN   m4      NaN    m4"
      ]
     },
     "execution_count": 283,
     "metadata": {},
     "output_type": "execute_result"
    }
   ],
   "source": []
  },
  {
   "cell_type": "code",
   "execution_count": 284,
   "metadata": {},
   "outputs": [
    {
     "data": {
      "text/html": [
       "<div>\n",
       "<style scoped>\n",
       "    .dataframe tbody tr th:only-of-type {\n",
       "        vertical-align: middle;\n",
       "    }\n",
       "\n",
       "    .dataframe tbody tr th {\n",
       "        vertical-align: top;\n",
       "    }\n",
       "\n",
       "    .dataframe thead th {\n",
       "        text-align: right;\n",
       "    }\n",
       "</style>\n",
       "<table border=\"1\" class=\"dataframe\">\n",
       "  <thead>\n",
       "    <tr style=\"text-align: right;\">\n",
       "      <th>asin</th>\n",
       "      <th>m1</th>\n",
       "      <th>m2</th>\n",
       "      <th>m3</th>\n",
       "      <th>m4</th>\n",
       "    </tr>\n",
       "    <tr>\n",
       "      <th>reviewerID</th>\n",
       "      <th></th>\n",
       "      <th></th>\n",
       "      <th></th>\n",
       "      <th></th>\n",
       "    </tr>\n",
       "  </thead>\n",
       "  <tbody>\n",
       "    <tr>\n",
       "      <th>u1</th>\n",
       "      <td>0</td>\n",
       "      <td>1</td>\n",
       "      <td>1</td>\n",
       "      <td>0</td>\n",
       "    </tr>\n",
       "    <tr>\n",
       "      <th>u2</th>\n",
       "      <td>1</td>\n",
       "      <td>0</td>\n",
       "      <td>0</td>\n",
       "      <td>0</td>\n",
       "    </tr>\n",
       "  </tbody>\n",
       "</table>\n",
       "</div>"
      ],
      "text/plain": [
       "asin        m1  m2  m3  m4\n",
       "reviewerID                \n",
       "u1           0   1   1   0\n",
       "u2           1   0   0   0"
      ]
     },
     "execution_count": 284,
     "metadata": {},
     "output_type": "execute_result"
    }
   ],
   "source": []
  },
  {
   "cell_type": "code",
   "execution_count": 285,
   "metadata": {},
   "outputs": [
    {
     "data": {
      "text/plain": [
       "array([[3.66666667, 3.71428571, 3.28571429, 3.33333333],\n",
       "       [5.        , 5.        , 5.        , 5.        ]])"
      ]
     },
     "execution_count": 285,
     "metadata": {},
     "output_type": "execute_result"
    }
   ],
   "source": []
  },
  {
   "cell_type": "code",
   "execution_count": null,
   "metadata": {},
   "outputs": [],
   "source": []
  },
  {
   "cell_type": "code",
   "execution_count": null,
   "metadata": {},
   "outputs": [],
   "source": []
  },
  {
   "cell_type": "code",
   "execution_count": null,
   "metadata": {},
   "outputs": [],
   "source": []
  },
  {
   "cell_type": "code",
   "execution_count": 265,
   "metadata": {},
   "outputs": [
    {
     "data": {
      "text/html": [
       "<div>\n",
       "<style scoped>\n",
       "    .dataframe tbody tr th:only-of-type {\n",
       "        vertical-align: middle;\n",
       "    }\n",
       "\n",
       "    .dataframe tbody tr th {\n",
       "        vertical-align: top;\n",
       "    }\n",
       "\n",
       "    .dataframe thead th {\n",
       "        text-align: right;\n",
       "    }\n",
       "</style>\n",
       "<table border=\"1\" class=\"dataframe\">\n",
       "  <thead>\n",
       "    <tr style=\"text-align: right;\">\n",
       "      <th></th>\n",
       "      <th>reviewerID</th>\n",
       "      <th>m1</th>\n",
       "      <th>m2</th>\n",
       "      <th>m3</th>\n",
       "      <th>m4</th>\n",
       "    </tr>\n",
       "  </thead>\n",
       "  <tbody>\n",
       "    <tr>\n",
       "      <th>0</th>\n",
       "      <td>u1</td>\n",
       "      <td>0.0</td>\n",
       "      <td>4.0</td>\n",
       "      <td>3.0</td>\n",
       "      <td>0.0</td>\n",
       "    </tr>\n",
       "    <tr>\n",
       "      <th>1</th>\n",
       "      <td>u2</td>\n",
       "      <td>5.0</td>\n",
       "      <td>0.0</td>\n",
       "      <td>0.0</td>\n",
       "      <td>0.0</td>\n",
       "    </tr>\n",
       "  </tbody>\n",
       "</table>\n",
       "</div>"
      ],
      "text/plain": [
       "  reviewerID   m1   m2   m3   m4\n",
       "0         u1  0.0  4.0  3.0  0.0\n",
       "1         u2  5.0  0.0  0.0  0.0"
      ]
     },
     "execution_count": 265,
     "metadata": {},
     "output_type": "execute_result"
    }
   ],
   "source": [
    "\n"
   ]
  },
  {
   "cell_type": "code",
   "execution_count": 266,
   "metadata": {},
   "outputs": [
    {
     "data": {
      "text/html": [
       "<div>\n",
       "<style scoped>\n",
       "    .dataframe tbody tr th:only-of-type {\n",
       "        vertical-align: middle;\n",
       "    }\n",
       "\n",
       "    .dataframe tbody tr th {\n",
       "        vertical-align: top;\n",
       "    }\n",
       "\n",
       "    .dataframe thead th {\n",
       "        text-align: right;\n",
       "    }\n",
       "</style>\n",
       "<table border=\"1\" class=\"dataframe\">\n",
       "  <thead>\n",
       "    <tr style=\"text-align: right;\">\n",
       "      <th></th>\n",
       "      <th>m1</th>\n",
       "      <th>m2</th>\n",
       "      <th>m3</th>\n",
       "      <th>m4</th>\n",
       "    </tr>\n",
       "  </thead>\n",
       "  <tbody>\n",
       "    <tr>\n",
       "      <th>0</th>\n",
       "      <td>0.0</td>\n",
       "      <td>4.0</td>\n",
       "      <td>3.0</td>\n",
       "      <td>0.0</td>\n",
       "    </tr>\n",
       "    <tr>\n",
       "      <th>1</th>\n",
       "      <td>5.0</td>\n",
       "      <td>0.0</td>\n",
       "      <td>0.0</td>\n",
       "      <td>0.0</td>\n",
       "    </tr>\n",
       "  </tbody>\n",
       "</table>\n",
       "</div>"
      ],
      "text/plain": [
       "    m1   m2   m3   m4\n",
       "0  0.0  4.0  3.0  0.0\n",
       "1  5.0  0.0  0.0  0.0"
      ]
     },
     "execution_count": 266,
     "metadata": {},
     "output_type": "execute_result"
    }
   ],
   "source": []
  },
  {
   "cell_type": "code",
   "execution_count": 271,
   "metadata": {},
   "outputs": [
    {
     "data": {
      "text/html": [
       "<div>\n",
       "<style scoped>\n",
       "    .dataframe tbody tr th:only-of-type {\n",
       "        vertical-align: middle;\n",
       "    }\n",
       "\n",
       "    .dataframe tbody tr th {\n",
       "        vertical-align: top;\n",
       "    }\n",
       "\n",
       "    .dataframe thead th {\n",
       "        text-align: right;\n",
       "    }\n",
       "</style>\n",
       "<table border=\"1\" class=\"dataframe\">\n",
       "  <thead>\n",
       "    <tr style=\"text-align: right;\">\n",
       "      <th>asin</th>\n",
       "      <th>m1</th>\n",
       "      <th>m2</th>\n",
       "      <th>m3</th>\n",
       "      <th>m4</th>\n",
       "    </tr>\n",
       "    <tr>\n",
       "      <th>reviewerID</th>\n",
       "      <th></th>\n",
       "      <th></th>\n",
       "      <th></th>\n",
       "      <th></th>\n",
       "    </tr>\n",
       "  </thead>\n",
       "  <tbody>\n",
       "    <tr>\n",
       "      <th>u1</th>\n",
       "      <td>0</td>\n",
       "      <td>1</td>\n",
       "      <td>1</td>\n",
       "      <td>0</td>\n",
       "    </tr>\n",
       "    <tr>\n",
       "      <th>u2</th>\n",
       "      <td>1</td>\n",
       "      <td>0</td>\n",
       "      <td>0</td>\n",
       "      <td>0</td>\n",
       "    </tr>\n",
       "  </tbody>\n",
       "</table>\n",
       "</div>"
      ],
      "text/plain": [
       "asin        m1  m2  m3  m4\n",
       "reviewerID                \n",
       "u1           0   1   1   0\n",
       "u2           1   0   0   0"
      ]
     },
     "execution_count": 271,
     "metadata": {},
     "output_type": "execute_result"
    }
   ],
   "source": []
  },
  {
   "cell_type": "code",
   "execution_count": 267,
   "metadata": {
    "scrolled": true
   },
   "outputs": [
    {
     "data": {
      "text/html": [
       "<div>\n",
       "<style scoped>\n",
       "    .dataframe tbody tr th:only-of-type {\n",
       "        vertical-align: middle;\n",
       "    }\n",
       "\n",
       "    .dataframe tbody tr th {\n",
       "        vertical-align: top;\n",
       "    }\n",
       "\n",
       "    .dataframe thead th {\n",
       "        text-align: right;\n",
       "    }\n",
       "</style>\n",
       "<table border=\"1\" class=\"dataframe\">\n",
       "  <thead>\n",
       "    <tr style=\"text-align: right;\">\n",
       "      <th></th>\n",
       "      <th>0</th>\n",
       "      <th>1</th>\n",
       "      <th>2</th>\n",
       "      <th>3</th>\n",
       "    </tr>\n",
       "  </thead>\n",
       "  <tbody>\n",
       "    <tr>\n",
       "      <th>0</th>\n",
       "      <td>1.00</td>\n",
       "      <td>0.5</td>\n",
       "      <td>0.25</td>\n",
       "      <td>0.25</td>\n",
       "    </tr>\n",
       "    <tr>\n",
       "      <th>1</th>\n",
       "      <td>0.50</td>\n",
       "      <td>1.0</td>\n",
       "      <td>0.40</td>\n",
       "      <td>0.30</td>\n",
       "    </tr>\n",
       "    <tr>\n",
       "      <th>2</th>\n",
       "      <td>0.25</td>\n",
       "      <td>0.4</td>\n",
       "      <td>1.00</td>\n",
       "      <td>0.60</td>\n",
       "    </tr>\n",
       "    <tr>\n",
       "      <th>3</th>\n",
       "      <td>0.25</td>\n",
       "      <td>0.3</td>\n",
       "      <td>0.60</td>\n",
       "      <td>1.00</td>\n",
       "    </tr>\n",
       "  </tbody>\n",
       "</table>\n",
       "</div>"
      ],
      "text/plain": [
       "      0    1     2     3\n",
       "0  1.00  0.5  0.25  0.25\n",
       "1  0.50  1.0  0.40  0.30\n",
       "2  0.25  0.4  1.00  0.60\n",
       "3  0.25  0.3  0.60  1.00"
      ]
     },
     "execution_count": 267,
     "metadata": {},
     "output_type": "execute_result"
    }
   ],
   "source": [
    "\n"
   ]
  },
  {
   "cell_type": "code",
   "execution_count": 250,
   "metadata": {},
   "outputs": [],
   "source": []
  },
  {
   "cell_type": "code",
   "execution_count": 272,
   "metadata": {},
   "outputs": [
    {
     "data": {
      "text/plain": [
       "array([[0.75, 1.4 , 1.4 , 0.9 ],\n",
       "       [1.  , 0.5 , 0.25, 0.25]])"
      ]
     },
     "execution_count": 272,
     "metadata": {},
     "output_type": "execute_result"
    }
   ],
   "source": []
  },
  {
   "cell_type": "code",
   "execution_count": 273,
   "metadata": {},
   "outputs": [
    {
     "data": {
      "text/plain": [
       "array([[3.66666667, 3.71428571, 3.28571429, 3.33333333],\n",
       "       [5.        , 5.        , 5.        , 5.        ]])"
      ]
     },
     "execution_count": 273,
     "metadata": {},
     "output_type": "execute_result"
    }
   ],
   "source": []
  },
  {
   "cell_type": "code",
   "execution_count": null,
   "metadata": {},
   "outputs": [],
   "source": []
  },
  {
   "cell_type": "code",
   "execution_count": null,
   "metadata": {},
   "outputs": [],
   "source": []
  },
  {
   "cell_type": "code",
   "execution_count": null,
   "metadata": {},
   "outputs": [],
   "source": []
  },
  {
   "cell_type": "code",
   "execution_count": null,
   "metadata": {},
   "outputs": [],
   "source": []
  },
  {
   "cell_type": "code",
   "execution_count": null,
   "metadata": {},
   "outputs": [],
   "source": []
  },
  {
   "cell_type": "code",
   "execution_count": null,
   "metadata": {},
   "outputs": [],
   "source": [
    "'''\n",
    "movies = pd.read_csv('movies.csv')\n",
    "movies_dict = {'itemID': list(movies.movieId),\n",
    "                'title': list(movies.title)}\n",
    "df2 = pd.DataFrame(movies_dict)\n",
    "'''\n",
    "# svd\n",
    "rmse = []\n",
    "size = []"
   ]
  },
  {
   "cell_type": "code",
   "execution_count": null,
   "metadata": {},
   "outputs": [],
   "source": [
    "# read data as sample pandas dataframe\n",
    "rdata = pd.read_csv('mvr_test_small.tsv', names=['reviewerID','asin','reviewerName','helpful','reviewText','overall','summary','unixReviewTime','reviewTime'], skiprows=1, sep='\\t')\n",
    "rdata.reset_index(inplace=True)\n",
    "rdata = rdata.drop(['index'],axis =1)\n",
    "moviedata = pd.read_json('meta_Movies_and_TV.json',lines=True,typ='frame')\n",
    "for i in arange(0.05, 1, 0.05):\n",
    "    getPredictions(rdata, moviedata, i, topN)\n",
    "    size.append(i)\n",
    "    rmse.append(accuracy.rmse(predictions, verbose=True))\n",
    "    top3_recommendations = get_top3_recommendations(predictions)\n",
    "    #print('top recommendations for SVD', top3_recommendations)\n",
    "    \n",
    "    rmse1.append(accuracy.rmse(predictions1, verbose=True))\n",
    "    top3_recommendations = get_top3_recommendations(predictions1)\n",
    "    #print('top recommendations using Item-Item sim', top3_recommendations)\n",
    "    \n",
    "    rmse2.append(accuracy.rmse(predictions2, verbose=True))\n",
    "    top3_recommendations = get_top3_recommendations(predictions2)\n",
    "    #print('top recommendations using User-User sim', top3_recommendations)\n",
    "    \n",
    "    #for uid, user_ratings in top3_recommendations.items():\n",
    "        #print(uid, [df2.loc[df2['itemID'] == iid, 'title'].iloc[0] for (iid, _) in user_ratings])\n",
    "        #print(uid, [result['itemID'] == iid for (iid, _) in user_ratings])\n",
    "        #print(uid, [result.loc[result['itemID'] == iid, 'title'].iloc[0] for (iid, _) in user_ratings])\n",
    "    #precisions, recalls = precision_recall_at_k(predictions, k=3, threshold=4)\n",
    "\n",
    "    # Precision and recall can then be averaged over all users\n",
    "    #print(sum(prec for prec in precisions.values()) / len(precisions))\n",
    "    #print(sum(rec for rec in recalls.values()) / len(recalls))"
   ]
  },
  {
   "cell_type": "code",
   "execution_count": null,
   "metadata": {},
   "outputs": [],
   "source": [
    "\n",
    "plt.style.use('seaborn-whitegrid')\n",
    "fig = plt.figure()\n",
    "ax = plt.axes()\n",
    "plt.plot(size, rmse)\n",
    "plt.show()"
   ]
  },
  {
   "cell_type": "code",
   "execution_count": null,
   "metadata": {},
   "outputs": [],
   "source": []
  },
  {
   "cell_type": "code",
   "execution_count": null,
   "metadata": {},
   "outputs": [],
   "source": []
  },
  {
   "cell_type": "code",
   "execution_count": null,
   "metadata": {},
   "outputs": [],
   "source": []
  },
  {
   "cell_type": "code",
   "execution_count": null,
   "metadata": {},
   "outputs": [],
   "source": []
  },
  {
   "cell_type": "code",
   "execution_count": 301,
   "metadata": {},
   "outputs": [],
   "source": [
    "rsmall = pd.read_csv('vvsmall.csv', names=['reviewerID','asin','overall'], skiprows=1, sep=' ')\n",
    "meta = pd.read_json('vvsmall_medata.json',lines=True,typ='frame')\n",
    "meta\n",
    "rsmall\n",
    "df = rsmall.merge(meta, on='asin',how='outer')\n",
    "df\n",
    "df = rsmall.merge(meta, on='asin',how='outer')\n",
    "df.replace(np.nan,0)\n",
    "# user index \n",
    "dfBin = pd.crosstab(index=df['reviewerID'], columns=df['asin'],dropna = False)\n",
    "# df.pivot_table(index='reviewerID', columns = 'asin',values = 'overall').reset_index()\n",
    "tt = df.pivot_table( index='reviewerID',columns = 'asin',values = 'overall',dropna=False).reset_index().rename_axis(None, axis=1)\n",
    "tt = tt.replace(np.nan,0)\n",
    "tt\n",
    "tt = tt.drop(['reviewerID'],axis = 1)\n",
    "tt\n",
    "dfBin\n",
    "cosTest = np.array([[1, 0.5, 0.25,0.25], [0.5, 1, 0.4,0.3],[0.25,0.4,1,0.6],[0.25,0.3,0.6,1]])\n",
    "m2mCosim = pd.DataFrame(cosTest)\n",
    "m2mCosim\n",
    "mul = np.dot(tt,m2mCosim)\n",
    "binMul = np.dot(dfBin,m2mCosim)\n",
    "binMul\n",
    "f = mul/binMul"
   ]
  },
  {
   "cell_type": "code",
   "execution_count": 320,
   "metadata": {},
   "outputs": [
    {
     "data": {
      "text/html": [
       "<div>\n",
       "<style scoped>\n",
       "    .dataframe tbody tr th:only-of-type {\n",
       "        vertical-align: middle;\n",
       "    }\n",
       "\n",
       "    .dataframe tbody tr th {\n",
       "        vertical-align: top;\n",
       "    }\n",
       "\n",
       "    .dataframe thead th {\n",
       "        text-align: right;\n",
       "    }\n",
       "</style>\n",
       "<table border=\"1\" class=\"dataframe\">\n",
       "  <thead>\n",
       "    <tr style=\"text-align: right;\">\n",
       "      <th>asin</th>\n",
       "      <th>m1</th>\n",
       "      <th>m2</th>\n",
       "      <th>m3</th>\n",
       "      <th>m4</th>\n",
       "    </tr>\n",
       "    <tr>\n",
       "      <th>reviewerID</th>\n",
       "      <th></th>\n",
       "      <th></th>\n",
       "      <th></th>\n",
       "      <th></th>\n",
       "    </tr>\n",
       "  </thead>\n",
       "  <tbody>\n",
       "    <tr>\n",
       "      <th>u1</th>\n",
       "      <td>0</td>\n",
       "      <td>1</td>\n",
       "      <td>1</td>\n",
       "      <td>0</td>\n",
       "    </tr>\n",
       "    <tr>\n",
       "      <th>u2</th>\n",
       "      <td>1</td>\n",
       "      <td>0</td>\n",
       "      <td>0</td>\n",
       "      <td>0</td>\n",
       "    </tr>\n",
       "  </tbody>\n",
       "</table>\n",
       "</div>"
      ],
      "text/plain": [
       "asin        m1  m2  m3  m4\n",
       "reviewerID                \n",
       "u1           0   1   1   0\n",
       "u2           1   0   0   0"
      ]
     },
     "execution_count": 320,
     "metadata": {},
     "output_type": "execute_result"
    }
   ],
   "source": [
    "dfBin"
   ]
  },
  {
   "cell_type": "code",
   "execution_count": 308,
   "metadata": {},
   "outputs": [
    {
     "data": {
      "text/plain": [
       "array([[2.75, 5.2 , 4.6 , 3.  ],\n",
       "       [5.  , 2.5 , 1.25, 1.25]])"
      ]
     },
     "execution_count": 308,
     "metadata": {},
     "output_type": "execute_result"
    }
   ],
   "source": [
    "mul"
   ]
  },
  {
   "cell_type": "code",
   "execution_count": 309,
   "metadata": {},
   "outputs": [
    {
     "data": {
      "text/html": [
       "<div>\n",
       "<style scoped>\n",
       "    .dataframe tbody tr th:only-of-type {\n",
       "        vertical-align: middle;\n",
       "    }\n",
       "\n",
       "    .dataframe tbody tr th {\n",
       "        vertical-align: top;\n",
       "    }\n",
       "\n",
       "    .dataframe thead th {\n",
       "        text-align: right;\n",
       "    }\n",
       "</style>\n",
       "<table border=\"1\" class=\"dataframe\">\n",
       "  <thead>\n",
       "    <tr style=\"text-align: right;\">\n",
       "      <th></th>\n",
       "      <th>0</th>\n",
       "      <th>1</th>\n",
       "      <th>2</th>\n",
       "      <th>3</th>\n",
       "    </tr>\n",
       "  </thead>\n",
       "  <tbody>\n",
       "    <tr>\n",
       "      <th>0</th>\n",
       "      <td>1.00</td>\n",
       "      <td>0.5</td>\n",
       "      <td>0.25</td>\n",
       "      <td>0.25</td>\n",
       "    </tr>\n",
       "    <tr>\n",
       "      <th>1</th>\n",
       "      <td>0.50</td>\n",
       "      <td>1.0</td>\n",
       "      <td>0.40</td>\n",
       "      <td>0.30</td>\n",
       "    </tr>\n",
       "    <tr>\n",
       "      <th>2</th>\n",
       "      <td>0.25</td>\n",
       "      <td>0.4</td>\n",
       "      <td>1.00</td>\n",
       "      <td>0.60</td>\n",
       "    </tr>\n",
       "    <tr>\n",
       "      <th>3</th>\n",
       "      <td>0.25</td>\n",
       "      <td>0.3</td>\n",
       "      <td>0.60</td>\n",
       "      <td>1.00</td>\n",
       "    </tr>\n",
       "  </tbody>\n",
       "</table>\n",
       "</div>"
      ],
      "text/plain": [
       "      0    1     2     3\n",
       "0  1.00  0.5  0.25  0.25\n",
       "1  0.50  1.0  0.40  0.30\n",
       "2  0.25  0.4  1.00  0.60\n",
       "3  0.25  0.3  0.60  1.00"
      ]
     },
     "execution_count": 309,
     "metadata": {},
     "output_type": "execute_result"
    }
   ],
   "source": [
    "m2mCosim"
   ]
  },
  {
   "cell_type": "code",
   "execution_count": 310,
   "metadata": {},
   "outputs": [
    {
     "data": {
      "text/plain": [
       "array([[0.75, 1.4 , 1.4 , 0.9 ],\n",
       "       [1.  , 0.5 , 0.25, 0.25]])"
      ]
     },
     "execution_count": 310,
     "metadata": {},
     "output_type": "execute_result"
    }
   ],
   "source": [
    "binMul"
   ]
  },
  {
   "cell_type": "code",
   "execution_count": 311,
   "metadata": {},
   "outputs": [
    {
     "data": {
      "text/plain": [
       "array([[3.66666667, 3.71428571, 3.28571429, 3.33333333],\n",
       "       [5.        , 5.        , 5.        , 5.        ]])"
      ]
     },
     "execution_count": 311,
     "metadata": {},
     "output_type": "execute_result"
    }
   ],
   "source": [
    "f"
   ]
  },
  {
   "cell_type": "code",
   "execution_count": 317,
   "metadata": {},
   "outputs": [
    {
     "data": {
      "text/html": [
       "<div>\n",
       "<style scoped>\n",
       "    .dataframe tbody tr th:only-of-type {\n",
       "        vertical-align: middle;\n",
       "    }\n",
       "\n",
       "    .dataframe tbody tr th {\n",
       "        vertical-align: top;\n",
       "    }\n",
       "\n",
       "    .dataframe thead th {\n",
       "        text-align: right;\n",
       "    }\n",
       "</style>\n",
       "<table border=\"1\" class=\"dataframe\">\n",
       "  <thead>\n",
       "    <tr style=\"text-align: right;\">\n",
       "      <th></th>\n",
       "      <th>0</th>\n",
       "      <th>1</th>\n",
       "      <th>2</th>\n",
       "      <th>3</th>\n",
       "    </tr>\n",
       "  </thead>\n",
       "  <tbody>\n",
       "    <tr>\n",
       "      <th>0</th>\n",
       "      <td>3.666667</td>\n",
       "      <td>3.714286</td>\n",
       "      <td>3.285714</td>\n",
       "      <td>3.333333</td>\n",
       "    </tr>\n",
       "    <tr>\n",
       "      <th>1</th>\n",
       "      <td>5.000000</td>\n",
       "      <td>5.000000</td>\n",
       "      <td>5.000000</td>\n",
       "      <td>5.000000</td>\n",
       "    </tr>\n",
       "  </tbody>\n",
       "</table>\n",
       "</div>"
      ],
      "text/plain": [
       "          0         1         2         3\n",
       "0  3.666667  3.714286  3.285714  3.333333\n",
       "1  5.000000  5.000000  5.000000  5.000000"
      ]
     },
     "execution_count": 317,
     "metadata": {},
     "output_type": "execute_result"
    }
   ],
   "source": [
    "pd.DataFrame(f)"
   ]
  },
  {
   "cell_type": "code",
   "execution_count": 322,
   "metadata": {},
   "outputs": [],
   "source": [
    "dfBin = 1- dfBin"
   ]
  },
  {
   "cell_type": "code",
   "execution_count": 323,
   "metadata": {},
   "outputs": [
    {
     "data": {
      "text/html": [
       "<div>\n",
       "<style scoped>\n",
       "    .dataframe tbody tr th:only-of-type {\n",
       "        vertical-align: middle;\n",
       "    }\n",
       "\n",
       "    .dataframe tbody tr th {\n",
       "        vertical-align: top;\n",
       "    }\n",
       "\n",
       "    .dataframe thead th {\n",
       "        text-align: right;\n",
       "    }\n",
       "</style>\n",
       "<table border=\"1\" class=\"dataframe\">\n",
       "  <thead>\n",
       "    <tr style=\"text-align: right;\">\n",
       "      <th>asin</th>\n",
       "      <th>m1</th>\n",
       "      <th>m2</th>\n",
       "      <th>m3</th>\n",
       "      <th>m4</th>\n",
       "    </tr>\n",
       "    <tr>\n",
       "      <th>reviewerID</th>\n",
       "      <th></th>\n",
       "      <th></th>\n",
       "      <th></th>\n",
       "      <th></th>\n",
       "    </tr>\n",
       "  </thead>\n",
       "  <tbody>\n",
       "    <tr>\n",
       "      <th>u1</th>\n",
       "      <td>1</td>\n",
       "      <td>0</td>\n",
       "      <td>0</td>\n",
       "      <td>1</td>\n",
       "    </tr>\n",
       "    <tr>\n",
       "      <th>u2</th>\n",
       "      <td>0</td>\n",
       "      <td>1</td>\n",
       "      <td>1</td>\n",
       "      <td>1</td>\n",
       "    </tr>\n",
       "  </tbody>\n",
       "</table>\n",
       "</div>"
      ],
      "text/plain": [
       "asin        m1  m2  m3  m4\n",
       "reviewerID                \n",
       "u1           1   0   0   1\n",
       "u2           0   1   1   1"
      ]
     },
     "execution_count": 323,
     "metadata": {},
     "output_type": "execute_result"
    }
   ],
   "source": []
  },
  {
   "cell_type": "code",
   "execution_count": null,
   "metadata": {},
   "outputs": [],
   "source": []
  },
  {
   "cell_type": "code",
   "execution_count": null,
   "metadata": {},
   "outputs": [],
   "source": [
    "# m2mCosim = pd.DataFrame(cosine_sim)\n",
    "# indexWithMovieId = moviedata['asin']\n",
    "# m2mCosim.columns = [str(indexWithMovieId[int(col)]) for col in m2mCosim.columns]\n",
    "# m2mCosim.index = [indexWithMovieId[idx] for idx in m2mCosim.index]\n",
    "# # m2mCosim.iloc[0].sort_values(ascending=False)[:10]\n",
    "# userRatings = rdataf[rdataf.reviewerID == 'A1GHUN5HXMHZ89']\n",
    "# userRatings.head(2)\n",
    "# userDataWithScore = moviedata.reset_index().merge(userRatings, on='asin')\n",
    "\n",
    "# userDataWithScore['weight'] = userDataWithScore['overall']/5\n",
    "# # df_user_data_with_tags['weight'].values\n",
    "# # df_user_data_with_tags\n",
    "# user_profile = np.dot(count_matrix[userDataWithScore['index'].values].toarray().T, userDataWithScore['weight'].values)\n",
    "# C = cosine_similarity(atleast_2d(user_profile), count_matrix)\n",
    "# R = argsort(C)[:, ::-1]\n",
    "# recommendations = [i for i in R[0] if i not in userDataWithScore['index'].values]\n",
    "# rdataf['asin'][recommendations].head(10)\n"
   ]
  },
  {
   "cell_type": "code",
   "execution_count": null,
   "metadata": {},
   "outputs": [],
   "source": []
  },
  {
   "cell_type": "code",
   "execution_count": null,
   "metadata": {},
   "outputs": [],
   "source": []
  },
  {
   "cell_type": "code",
   "execution_count": null,
   "metadata": {},
   "outputs": [],
   "source": []
  },
  {
   "cell_type": "code",
   "execution_count": null,
   "metadata": {},
   "outputs": [],
   "source": []
  },
  {
   "cell_type": "code",
   "execution_count": null,
   "metadata": {},
   "outputs": [],
   "source": []
  },
  {
   "cell_type": "code",
   "execution_count": null,
   "metadata": {},
   "outputs": [],
   "source": []
  },
  {
   "cell_type": "code",
   "execution_count": null,
   "metadata": {},
   "outputs": [],
   "source": []
  },
  {
   "cell_type": "code",
   "execution_count": null,
   "metadata": {},
   "outputs": [],
   "source": []
  },
  {
   "cell_type": "code",
   "execution_count": null,
   "metadata": {},
   "outputs": [],
   "source": []
  }
 ],
 "metadata": {
  "colab": {
   "collapsed_sections": [],
   "name": "svd.ipynb",
   "provenance": []
  },
  "kernelspec": {
   "display_name": "Python 3",
   "language": "python",
   "name": "python3"
  },
  "language_info": {
   "codemirror_mode": {
    "name": "ipython",
    "version": 3
   },
   "file_extension": ".py",
   "mimetype": "text/x-python",
   "name": "python",
   "nbconvert_exporter": "python",
   "pygments_lexer": "ipython3",
   "version": "3.7.3"
  }
 },
 "nbformat": 4,
 "nbformat_minor": 1
}
