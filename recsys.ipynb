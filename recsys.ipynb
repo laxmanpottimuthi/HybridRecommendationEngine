{
 "cells": [
  {
   "cell_type": "code",
   "execution_count": 32,
   "metadata": {
    "colab": {},
    "colab_type": "code",
    "id": "uA2Pablwo8u-"
   },
   "outputs": [],
   "source": [
    "import pandas as pd\n",
    "\n",
    "import matplotlib.pyplot as plt\n",
    "%matplotlib inline\n",
    "\n",
    "import string\n",
    "\n",
    "import nltk \n",
    "from nltk import pos_tag\n",
    "from nltk.tokenize import WhitespaceTokenizer\n",
    "from nltk.stem import WordNetLemmatizer\n",
    "from nltk.corpus import movie_reviews, stopwords,wordnet\n",
    "from nltk.sentiment.vader import SentimentIntensityAnalyzer\n",
    "from rake_nltk import Rake\n",
    "\n",
    "import numpy as np\n",
    "from numpy import arange,atleast_2d,argsort\n",
    "\n",
    "from collections import defaultdict\n",
    "\n",
    "from surprise import Reader, Dataset, SVD, accuracy,KNNBaseline\n",
    "from surprise.model_selection import train_test_split\n",
    "\n",
    "from sklearn.metrics.pairwise import cosine_similarity\n",
    "from sklearn.feature_extraction.text import CountVectorizer\n",
    "\n",
    "from ast import literal_eval"
   ]
  },
  {
   "cell_type": "code",
   "execution_count": 2,
   "metadata": {},
   "outputs": [],
   "source": [
    "helpfulCutOffRatings = 20\n",
    "reviewDataPath = 'amazon/vsmall.csv'\n",
    "metadataPath = 'amazon/vsmall_metadata.json'\n",
    "topN = 5"
   ]
  },
  {
   "cell_type": "code",
   "execution_count": 3,
   "metadata": {},
   "outputs": [],
   "source": [
    "def removeUnusedReviewInfo(rdata):\n",
    "    rdata = rdata.drop(['unixReviewTime','reviewTime','reviewerName'],axis=1)\n",
    "    return rdata\n",
    "    \n",
    "def createReviewerInfo(data):\n",
    "    reviewerInfo = data[['reviewerID', 'reviewerName']]\n",
    "    return reviewerInfo"
   ]
  },
  {
   "cell_type": "code",
   "execution_count": 114,
   "metadata": {},
   "outputs": [],
   "source": [
    "def createUserMovieMatrix(udata,mdata):\n",
    "    fullData = udata.merge(mdata, on='asin',how='outer')\n",
    "    userMovieMatrix = fullData.pivot_table(index='reviewerID', columns = 'asin',values = 'overall',dropna=False).reset_index().rename_axis(None, axis=1)\n",
    "    userMovieMatrix.set_index('reviewerID',inplace=True)\n",
    "    userMovieMatching = pd.crosstab(index = fullData['reviewerID'], columns=fullData['asin'],dropna = False)\n",
    "    userMovieMatrix = userMovieMatrix.replace(np.nan,0)\n",
    "#     userMovieMatrix = userMovieMatrix.drop(['reviewerID'],axis = 1)\n",
    "    return userMovieMatrix, userMovieMatching\n"
   ]
  },
  {
   "cell_type": "code",
   "execution_count": 5,
   "metadata": {},
   "outputs": [],
   "source": [
    "# Classify data into negative or positive\n",
    "def classifyBaseReviewRating(x):\n",
    "    if x > 2.5:\n",
    "        return \"positive\"\n",
    "    if x == 2.5:\n",
    "        return \"neutral\"\n",
    "    if x < 2.5:\n",
    "        return \"negative\""
   ]
  },
  {
   "cell_type": "code",
   "execution_count": 6,
   "metadata": {},
   "outputs": [],
   "source": [
    "def cleanData(r):\n",
    "    r = str(r)\n",
    "    if len(r) == 0:\n",
    "        return ''\n",
    "    if type(r) == float:\n",
    "        return ''\n",
    "    return r"
   ]
  },
  {
   "cell_type": "code",
   "execution_count": 7,
   "metadata": {},
   "outputs": [],
   "source": [
    "def getWordnetType(tag):\n",
    "    if tag.startswith('J'):\n",
    "        return wordnet.ADJ\n",
    "    elif tag.startswith('V'):\n",
    "        return wordnet.VERB\n",
    "    elif tag.startswith('N'):\n",
    "        return wordnet.NOUN\n",
    "    elif tag.startswith('R'):\n",
    "        return wordnet.ADV\n",
    "    else:\n",
    "        return wordnet.NOUN\n",
    "\n",
    "def cleanReview(r):\n",
    "    r = str(r)\n",
    "    if len(r) == 0:\n",
    "        return ''\n",
    "    if type(r) == float:\n",
    "        return ''\n",
    "    r = r.lower()\n",
    "    #remove puncutation\n",
    "    r = [eachWord.strip(string.punctuation) for eachWord in r.split(\" \") ]\n",
    "    #remove numbers\n",
    "    r = [eachWord for eachWord in r if not any(l.isdigit() for l in eachWord)]\n",
    "    \n",
    "    #remove stop words\n",
    "    stop = stopwords.words('english')\n",
    "    r = [w for w in r if w not in stop]\n",
    "    \n",
    "    #remove words which are empty\n",
    "    r = [w for w in r if len(w) >0]\n",
    "    \n",
    "    #add pos_tags\n",
    "    pos_tags = pos_tag(r)\n",
    "    \n",
    "    #word lemmatize\n",
    "    r = [WordNetLemmatizer().lemmatize(t[0], getWordnetType(t[1])) for t in pos_tags]\n",
    "    \n",
    "    #remove useless words\n",
    "    r = [w for w in r if len(w) > 1]\n",
    "    \n",
    "    #recreate review\n",
    "    r = \" \".join(r)\n",
    "    return r\n",
    "\n",
    "# get compound score from VADER and append it as review rating\n",
    "def getSentimentScore(rdata):\n",
    "    sa = SentimentIntensityAnalyzer()\n",
    "    rdata[\"sentiments\"] = rdata[\"reviewText\"].apply(lambda x: sa.polarity_scores(x))\n",
    "    rdata = pd.concat([rdata.drop(['sentiments'], axis=1), rdata['sentiments'].apply(pd.Series)], axis=1)\n",
    "    rdata['helpful'] = rdata['helpful'].apply(lambda x: getHelpfulScore(x))\n",
    "    #compound score from VADER is from -1 to +1. Scaling it to 0 to 5 and multiplying it with helpfulness score\n",
    "    rdata['reviewRating'] = (1+(rdata['compound']+1)*2)\n",
    "#     rdata['reviewRating'] = (1+(rdata['compound']+1)*2) * rdata['helpful']\n",
    "    rdata = rdata.drop(['compound','pos','neg','neu'],axis = 1)\n",
    "    rdata = rdata.drop(['reviewText','helpful'],axis=1)\n",
    "    return rdata\n",
    "    "
   ]
  },
  {
   "cell_type": "code",
   "execution_count": 8,
   "metadata": {},
   "outputs": [],
   "source": [
    "def getHelpfulScore(x):\n",
    "    if x == None:\n",
    "        return 1.0\n",
    "    x = literal_eval(x)\n",
    "    a = float(x[0])\n",
    "    b = float(x[1])\n",
    "\n",
    "    if b != 0 and a + b > helpfulCutOffRatings-1:\n",
    "        return a / (a + b)\n",
    "    else:\n",
    "        return 1.0"
   ]
  },
  {
   "cell_type": "code",
   "execution_count": 9,
   "metadata": {},
   "outputs": [],
   "source": [
    "def generateSentimentScoreOnReviews(rdata):\n",
    "    reviewerInfo = createReviewerInfo(rdata)\n",
    "    rdata = removeUnusedReviewInfo(rdata)\n",
    "    rdata[\"reviewType\"] = rdata[\"overall\"].apply(classifyBaseReviewRating)\n",
    "    rdata['reviewText'] = rdata['reviewText'] + rdata['summary']\n",
    "    rdata = rdata.drop(['summary'],axis = 1)\n",
    "    rdata['reviewText'] = rdata['reviewText'].apply(cleanData)    \n",
    "    rdata['reviewText'] = rdata['reviewText'].apply(lambda x:cleanReview(x))\n",
    "    rdata = getSentimentScore(rdata)\n",
    "    return rdata\n"
   ]
  },
  {
   "cell_type": "code",
   "execution_count": 10,
   "metadata": {},
   "outputs": [],
   "source": [
    "def getMovieData(path):\n",
    "    return pd.read_json(path,lines=True,typ='frame')\n",
    "\n",
    "def preProcessMovieData(moviedata):\n",
    "    moviedata.sort_values(\"asin\",inplace=True)\n",
    "    moviedata.drop_duplicates(subset='asin',keep=False,inplace = True)\n",
    "    moviedata = moviedata.reset_index(drop=True)\n",
    "    moviedata = moviedata.drop(['rank','main_cat','image','also_buy','also_view','price','details','feature','date','tech1'],axis = 1,errors='ignore')\n",
    "    return moviedata\n",
    "\n"
   ]
  },
  {
   "cell_type": "code",
   "execution_count": 11,
   "metadata": {},
   "outputs": [],
   "source": [
    "def getCosineSimilarity(moviedata):\n",
    "    count = CountVectorizer()\n",
    "    count_matrix = count.fit_transform(moviedata['cleanText'])\n",
    "    # generating the cosine similarity matrix\n",
    "    cosine_sim = cosine_similarity(count_matrix, count_matrix)\n",
    "    return cosine_sim\n",
    "\n",
    "def getMovieSimilarityFromPlot(moviedata):\n",
    "    # initializing the new column\n",
    "    moviedata['impWords'] = ''\n",
    "    moviedata['cleanText'] = ''\n",
    "    for index, movie in moviedata.iterrows():\n",
    "        tot = ''\n",
    "        description = movie['description']\n",
    "        if description != None:\n",
    "            if type(description) != float:\n",
    "                if len(description) != 0:\n",
    "                    for i in description:\n",
    "                        if type(i) != str:\n",
    "                            print(description)\n",
    "                        tot = tot + i\n",
    "\n",
    "        #remove \"Movies & TV\", \"Genre for Featured Categories\", \"Movies\", \"Independently Distributed\", \"All Titles\", \"All\", \"4-for-3 DVD\", \n",
    "        ignoreWords = [\"Movies & TV\", \"Genre for Featured Categories\", \"Movies\", \"Independently Distributed\", \"All Titles\", \"All\", \"4-for-3 DVD\"]\n",
    "        category = movie['category']\n",
    "        if category != None:\n",
    "            if type(category) != float:\n",
    "                for w in category:\n",
    "                    if w not in ignoreWords:\n",
    "                        tot = tot+w\n",
    "        brand = movie['brand']\n",
    "        if brand != None:\n",
    "            if type(brand) != float:\n",
    "                tot = tot + i\n",
    "        r = Rake()\n",
    "        r.extract_keywords_from_text(tot)\n",
    "        # getting the dictionary whith key words as keys and their scores as values\n",
    "        key_words_dict_scores = r.get_word_degrees()\n",
    "\n",
    "        # assigning the key words to the new column for the corresponding movie\n",
    "        movie['impWords'] = list(key_words_dict_scores.keys())\n",
    "        movie['cleanText'] = \" \".join(map(str,movie['impWords']))\n",
    "    moviedata = moviedata.drop(['category','brand','description','impWords'],axis = 1)\n",
    "    cosine_sim =  getCosineSimilarity(moviedata)\n",
    "    moviedata = moviedata.drop(['cleanText'],axis = 1)\n",
    "    return cosine_sim, moviedata\n"
   ]
  },
  {
   "cell_type": "code",
   "execution_count": 12,
   "metadata": {},
   "outputs": [],
   "source": [
    "def getMovieAvgRating(moviedata,rdataf):\n",
    "    movieAvgRating = rdataf.groupby('asin')['overall'].agg(['mean', 'median', 'size'])\n",
    "    movieAvgRating.columns = ['rating_mean', 'rating_median', 'num_ratings']\n",
    "    return movieAvgRating\n"
   ]
  },
  {
   "cell_type": "code",
   "execution_count": 13,
   "metadata": {},
   "outputs": [],
   "source": [
    "def get_top3_recommendations(predictions, topN = 3):\n",
    "     \n",
    "    top_recs = defaultdict(list)\n",
    "    for uid, iid, true_r, est, _ in predictions:\n",
    "        top_recs[uid].append((iid, est))\n",
    "     \n",
    "    for uid, user_ratings in top_recs.items():\n",
    "        user_ratings.sort(key = lambda x: x[1], reverse = True)\n",
    "        top_recs[uid] = user_ratings[:topN]\n",
    "     \n",
    "    return top_recs\n",
    "\n",
    "def precision_recall_at_k(predictions, k=10, threshold=3.5):\n",
    "    '''Return precision and recall at k metrics for each user.'''\n",
    "\n",
    "    # First map the predictions to each user.\n",
    "    user_est_true = defaultdict(list)\n",
    "    for uid, _, true_r, est, _ in predictions:\n",
    "        user_est_true[uid].append((est, true_r))\n",
    "\n",
    "    precisions = dict()\n",
    "    recalls = dict()\n",
    "    for uid, user_ratings in user_est_true.items():\n",
    "\n",
    "        # Sort user ratings by estimated value\n",
    "        user_ratings.sort(key=lambda x: x[0], reverse=True)\n",
    "\n",
    "        # Number of relevant items\n",
    "        n_rel = sum((true_r >= threshold) for (_, true_r) in user_ratings)\n",
    "\n",
    "        # Number of recommended items in top k\n",
    "        n_rec_k = sum((est >= threshold) for (est, _) in user_ratings[:k])\n",
    "\n",
    "        # Number of relevant and recommended items in top k\n",
    "        n_rel_and_rec_k = sum(((true_r >= threshold) and (est >= threshold))\n",
    "                              for (est, true_r) in user_ratings[:k])\n",
    "\n",
    "        # Precision@K: Proportion of recommended items that are relevant\n",
    "        precisions[uid] = n_rel_and_rec_k / n_rec_k if n_rec_k != 0 else 1\n",
    "\n",
    "        # Recall@K: Proportion of relevant items that are recommended\n",
    "        recalls[uid] = n_rel_and_rec_k / n_rel if n_rel != 0 else 1\n",
    "\n",
    "    return precisions, recalls\n"
   ]
  },
  {
   "cell_type": "code",
   "execution_count": 40,
   "metadata": {},
   "outputs": [],
   "source": [
    "def getPredictionFromMovieContent(moviedata, rdata, testSplit):\n",
    "    moviedata = preProcessMovieData(moviedata)\n",
    "    # craete cosine similarity matrix\n",
    "    cosine_sim, moviedata = getMovieSimilarityFromPlot(moviedata)\n",
    "    rdata, testdata = train_test_split(rdata, test_size=testSplit)\n",
    "#     userMovieMatrix = createUserMovieMatrix(rdata,moviedata)\n",
    "    rdata = rdata.merge(moviedata, on='asin',how='left')\n",
    "    movieAvgRating = getMovieAvgRating(moviedata,rdata)\n",
    "    movieAvgRating.columns = ['rating_mean', 'rating_median', 'num_ratings']\n",
    "    moviedata = moviedata.merge(movieAvgRating, on='asin',how='left')\n",
    "    \n",
    "    predictions = getUserRatingPredictionFromMovieContent(cosine_sim, rdata, testdata, moviedata)\n",
    "    return predictions"
   ]
  },
  {
   "cell_type": "code",
   "execution_count": 15,
   "metadata": {},
   "outputs": [],
   "source": [
    "def getUserRatingPredictionFromMovieContent(cosine_sim, rdata, testdata, moviedata):\n",
    "    \n",
    "    # Get user movie prediction based on train data\n",
    "    userMovieMatrix, userMovieMatching = createUserMovieMatrix(rdata, moviedata)\n",
    "    sumUserMovieWeight = np.dot(userMovieMatrix, cosine_sim)\n",
    "    sumSimFoRM2M = np.dot(userMovieMatching, cosine_sim)\n",
    "    userMoviePredict = sumUserMovieWeight/sumSimFoRM2M #Movie prediction for all the data\n",
    "    \n",
    "    #Get User movie matching for test data\n",
    "    userMovieMatrixTest, userMovieMatchingTest = createUserMovieMatrix(testdata, moviedata)\n",
    "    \n",
    "    # Used for predicting not rated movies in train data\n",
    "    userMovieMatching = 1 - userMovieMatching\n",
    "    \n",
    "    # get user movie matrix for users not rated all\n",
    "    userMovieMatchingNewPred = userMovieMatching - userMovieMatchingTest\n",
    "    \n",
    "    # Predict all user-movie from train data\n",
    "    userMoviePredictMissingMovies = userMoviePredict * userMovieMatching\n",
    "    \n",
    "    # Prediction for already rated movies\n",
    "    userMovieAlreadyRatedPredicted = userMovieMatchingTest * userMoviePredictMissingMovies\n",
    "    \n",
    "    #Prediction for new movies\n",
    "    userMovieNewPredictions = userMoviePredictMissingMovies * userMovieMatchingNewPred\n",
    "    \n",
    "    \n",
    "    userMovieNewPredictions.reset_index(in_place=True)\n",
    "    userMovieNewPredictions = userMovieNewPredictions.replace(0,np.nan)\n",
    "    \n",
    "    userMovieAlreadyRatedPredicted.reset_index(in_place=True)\n",
    "    userMovieAlreadyRatedPredicted = userMovieAlreadyRatedPredicted.replace(0,np.nan)\n",
    "    \n",
    "    userMovieAlreadyRatedPredicted = pd.melt(userMovieAlreadyRatedPredicted, id_vars='reviewerID', \n",
    "                                        value_vars=list(userMovieAlreadyRatedPredicted.columns[1:]),\n",
    "                                        var_name='asin', \n",
    "                                        value_name='rating')\n",
    "    userMovieAlreadyRatedPredicted = userMovieAlreadyRatedPredicted[userMovieAlreadyRatedPredicted['rating'].notna()]\n",
    "    testdataF = testdata.merge(metadata, on='asin',how='outer')\n",
    "    \n",
    "    testdataF = testdataF[testdataF['overall'].notna()]\n",
    "    \n",
    "    userMovieAlreadyRatedPredictedFinal = pd.merge(userMovieAlreadyRatedPredicted, \n",
    "                                                   testdataF, how='left',on=['reviewerID','asin'])\n",
    "    userMovieAlreadyRatedPredictedFinal.drop(['title'],axis =1,inplace=True)\n",
    "    \n",
    "    \n",
    "    userMovieNewPredictions = pd.melt(userMovieNewPredictions, id_vars='reviewerID', \n",
    "                                        value_vars=list(userMovieNewPredictions.columns[1:]),\n",
    "                                        var_name='asin', \n",
    "                                        value_name='rating')\n",
    "    userMovieNewPredictions = userMovieNewPredictions[userMovieNewPredictions['rating'].notna()]\n",
    "    \n",
    "    combinedPred = pd.concat([userMovieAlreadyRatedPredictedFinal, userMovieNewPredictions],ignore_index=True)\n",
    "    \n",
    "    combinedPred = combinedPred.replace(np.nan,0)\n",
    "    combinedPred['tup'] = tuple(zip(combinedPred.reviewerID, combinedPred.asin,\n",
    "                                    combinedPred.rating,combinedPred.overall))\n",
    "    predictions = list(combinedPred['tup'])\n",
    "    return predictions"
   ]
  },
  {
   "cell_type": "code",
   "execution_count": null,
   "metadata": {},
   "outputs": [],
   "source": []
  },
  {
   "cell_type": "code",
   "execution_count": 435,
   "metadata": {},
   "outputs": [
    {
     "data": {
      "text/html": [
       "<div>\n",
       "<style scoped>\n",
       "    .dataframe tbody tr th:only-of-type {\n",
       "        vertical-align: middle;\n",
       "    }\n",
       "\n",
       "    .dataframe tbody tr th {\n",
       "        vertical-align: top;\n",
       "    }\n",
       "\n",
       "    .dataframe thead th {\n",
       "        text-align: right;\n",
       "    }\n",
       "</style>\n",
       "<table border=\"1\" class=\"dataframe\">\n",
       "  <thead>\n",
       "    <tr style=\"text-align: right;\">\n",
       "      <th></th>\n",
       "      <th>reviewerID</th>\n",
       "      <th>asin</th>\n",
       "      <th>overall</th>\n",
       "    </tr>\n",
       "  </thead>\n",
       "  <tbody>\n",
       "    <tr>\n",
       "      <th>0</th>\n",
       "      <td>u1</td>\n",
       "      <td>m2</td>\n",
       "      <td>4</td>\n",
       "    </tr>\n",
       "    <tr>\n",
       "      <th>1</th>\n",
       "      <td>u2</td>\n",
       "      <td>m1</td>\n",
       "      <td>5</td>\n",
       "    </tr>\n",
       "    <tr>\n",
       "      <th>2</th>\n",
       "      <td>u2</td>\n",
       "      <td>m4</td>\n",
       "      <td>4</td>\n",
       "    </tr>\n",
       "  </tbody>\n",
       "</table>\n",
       "</div>"
      ],
      "text/plain": [
       "  reviewerID asin  overall\n",
       "0         u1   m2        4\n",
       "1         u2   m1        5\n",
       "2         u2   m4        4"
      ]
     },
     "execution_count": 435,
     "metadata": {},
     "output_type": "execute_result"
    }
   ],
   "source": [
    "rsmall = pd.read_csv('vvsmall.csv', names=['reviewerID','asin','overall'], skiprows=1, sep=' ')\n",
    "rsmall"
   ]
  },
  {
   "cell_type": "code",
   "execution_count": 436,
   "metadata": {},
   "outputs": [
    {
     "data": {
      "text/html": [
       "<div>\n",
       "<style scoped>\n",
       "    .dataframe tbody tr th:only-of-type {\n",
       "        vertical-align: middle;\n",
       "    }\n",
       "\n",
       "    .dataframe tbody tr th {\n",
       "        vertical-align: top;\n",
       "    }\n",
       "\n",
       "    .dataframe thead th {\n",
       "        text-align: right;\n",
       "    }\n",
       "</style>\n",
       "<table border=\"1\" class=\"dataframe\">\n",
       "  <thead>\n",
       "    <tr style=\"text-align: right;\">\n",
       "      <th></th>\n",
       "      <th>reviewerID</th>\n",
       "      <th>asin</th>\n",
       "      <th>overall</th>\n",
       "    </tr>\n",
       "  </thead>\n",
       "  <tbody>\n",
       "    <tr>\n",
       "      <th>0</th>\n",
       "      <td>u1</td>\n",
       "      <td>m3</td>\n",
       "      <td>3</td>\n",
       "    </tr>\n",
       "    <tr>\n",
       "      <th>1</th>\n",
       "      <td>u2</td>\n",
       "      <td>m2</td>\n",
       "      <td>3</td>\n",
       "    </tr>\n",
       "  </tbody>\n",
       "</table>\n",
       "</div>"
      ],
      "text/plain": [
       "  reviewerID asin  overall\n",
       "0         u1   m3        3\n",
       "1         u2   m2        3"
      ]
     },
     "execution_count": 436,
     "metadata": {},
     "output_type": "execute_result"
    }
   ],
   "source": [
    "rsmallt = pd.read_csv('vvsmall_test.csv', names=['reviewerID','asin','overall'], skiprows=1, sep=' ')\n",
    "rsmallt"
   ]
  },
  {
   "cell_type": "code",
   "execution_count": 437,
   "metadata": {},
   "outputs": [],
   "source": [
    "meta = pd.read_json('vvsmall_medata.json',lines=True,typ='frame')\n"
   ]
  },
  {
   "cell_type": "code",
   "execution_count": 438,
   "metadata": {},
   "outputs": [
    {
     "data": {
      "text/html": [
       "<div>\n",
       "<style scoped>\n",
       "    .dataframe tbody tr th:only-of-type {\n",
       "        vertical-align: middle;\n",
       "    }\n",
       "\n",
       "    .dataframe tbody tr th {\n",
       "        vertical-align: top;\n",
       "    }\n",
       "\n",
       "    .dataframe thead th {\n",
       "        text-align: right;\n",
       "    }\n",
       "</style>\n",
       "<table border=\"1\" class=\"dataframe\">\n",
       "  <thead>\n",
       "    <tr style=\"text-align: right;\">\n",
       "      <th></th>\n",
       "      <th>reviewerID</th>\n",
       "      <th>asin</th>\n",
       "      <th>overall</th>\n",
       "      <th>title</th>\n",
       "    </tr>\n",
       "  </thead>\n",
       "  <tbody>\n",
       "    <tr>\n",
       "      <th>0</th>\n",
       "      <td>u1</td>\n",
       "      <td>m2</td>\n",
       "      <td>4.0</td>\n",
       "      <td>m2</td>\n",
       "    </tr>\n",
       "    <tr>\n",
       "      <th>1</th>\n",
       "      <td>u2</td>\n",
       "      <td>m1</td>\n",
       "      <td>5.0</td>\n",
       "      <td>m1</td>\n",
       "    </tr>\n",
       "    <tr>\n",
       "      <th>2</th>\n",
       "      <td>u2</td>\n",
       "      <td>m4</td>\n",
       "      <td>4.0</td>\n",
       "      <td>m4</td>\n",
       "    </tr>\n",
       "    <tr>\n",
       "      <th>3</th>\n",
       "      <td>NaN</td>\n",
       "      <td>m3</td>\n",
       "      <td>NaN</td>\n",
       "      <td>m3</td>\n",
       "    </tr>\n",
       "  </tbody>\n",
       "</table>\n",
       "</div>"
      ],
      "text/plain": [
       "  reviewerID asin  overall title\n",
       "0         u1   m2      4.0    m2\n",
       "1         u2   m1      5.0    m1\n",
       "2         u2   m4      4.0    m4\n",
       "3        NaN   m3      NaN    m3"
      ]
     },
     "execution_count": 438,
     "metadata": {},
     "output_type": "execute_result"
    }
   ],
   "source": [
    "df = rsmall.merge(meta, on='asin',how='outer')\n",
    "df"
   ]
  },
  {
   "cell_type": "code",
   "execution_count": 439,
   "metadata": {},
   "outputs": [
    {
     "data": {
      "text/html": [
       "<div>\n",
       "<style scoped>\n",
       "    .dataframe tbody tr th:only-of-type {\n",
       "        vertical-align: middle;\n",
       "    }\n",
       "\n",
       "    .dataframe tbody tr th {\n",
       "        vertical-align: top;\n",
       "    }\n",
       "\n",
       "    .dataframe thead th {\n",
       "        text-align: right;\n",
       "    }\n",
       "</style>\n",
       "<table border=\"1\" class=\"dataframe\">\n",
       "  <thead>\n",
       "    <tr style=\"text-align: right;\">\n",
       "      <th></th>\n",
       "      <th>reviewerID</th>\n",
       "      <th>asin</th>\n",
       "      <th>overall</th>\n",
       "      <th>title</th>\n",
       "    </tr>\n",
       "  </thead>\n",
       "  <tbody>\n",
       "    <tr>\n",
       "      <th>0</th>\n",
       "      <td>u1</td>\n",
       "      <td>m3</td>\n",
       "      <td>3.0</td>\n",
       "      <td>m3</td>\n",
       "    </tr>\n",
       "    <tr>\n",
       "      <th>1</th>\n",
       "      <td>u2</td>\n",
       "      <td>m2</td>\n",
       "      <td>3.0</td>\n",
       "      <td>m2</td>\n",
       "    </tr>\n",
       "    <tr>\n",
       "      <th>2</th>\n",
       "      <td>NaN</td>\n",
       "      <td>m4</td>\n",
       "      <td>NaN</td>\n",
       "      <td>m4</td>\n",
       "    </tr>\n",
       "    <tr>\n",
       "      <th>3</th>\n",
       "      <td>NaN</td>\n",
       "      <td>m1</td>\n",
       "      <td>NaN</td>\n",
       "      <td>m1</td>\n",
       "    </tr>\n",
       "  </tbody>\n",
       "</table>\n",
       "</div>"
      ],
      "text/plain": [
       "  reviewerID asin  overall title\n",
       "0         u1   m3      3.0    m3\n",
       "1         u2   m2      3.0    m2\n",
       "2        NaN   m4      NaN    m4\n",
       "3        NaN   m1      NaN    m1"
      ]
     },
     "execution_count": 439,
     "metadata": {},
     "output_type": "execute_result"
    }
   ],
   "source": [
    "dft = rsmallt.merge(meta, on='asin',how='outer')\n",
    "dft"
   ]
  },
  {
   "cell_type": "code",
   "execution_count": 440,
   "metadata": {},
   "outputs": [
    {
     "data": {
      "text/html": [
       "<div>\n",
       "<style scoped>\n",
       "    .dataframe tbody tr th:only-of-type {\n",
       "        vertical-align: middle;\n",
       "    }\n",
       "\n",
       "    .dataframe tbody tr th {\n",
       "        vertical-align: top;\n",
       "    }\n",
       "\n",
       "    .dataframe thead th {\n",
       "        text-align: right;\n",
       "    }\n",
       "</style>\n",
       "<table border=\"1\" class=\"dataframe\">\n",
       "  <thead>\n",
       "    <tr style=\"text-align: right;\">\n",
       "      <th></th>\n",
       "      <th>m1</th>\n",
       "      <th>m2</th>\n",
       "      <th>m3</th>\n",
       "      <th>m4</th>\n",
       "    </tr>\n",
       "    <tr>\n",
       "      <th>reviewerID</th>\n",
       "      <th></th>\n",
       "      <th></th>\n",
       "      <th></th>\n",
       "      <th></th>\n",
       "    </tr>\n",
       "  </thead>\n",
       "  <tbody>\n",
       "    <tr>\n",
       "      <th>u1</th>\n",
       "      <td>0.0</td>\n",
       "      <td>4.0</td>\n",
       "      <td>0.0</td>\n",
       "      <td>0.0</td>\n",
       "    </tr>\n",
       "    <tr>\n",
       "      <th>u2</th>\n",
       "      <td>5.0</td>\n",
       "      <td>0.0</td>\n",
       "      <td>0.0</td>\n",
       "      <td>4.0</td>\n",
       "    </tr>\n",
       "  </tbody>\n",
       "</table>\n",
       "</div>"
      ],
      "text/plain": [
       "             m1   m2   m3   m4\n",
       "reviewerID                    \n",
       "u1          0.0  4.0  0.0  0.0\n",
       "u2          5.0  0.0  0.0  4.0"
      ]
     },
     "execution_count": 440,
     "metadata": {},
     "output_type": "execute_result"
    }
   ],
   "source": [
    "# df.pivot_table(index='reviewerID', columns = 'asin',values = 'overall',dropna = False).reset_index()\n",
    "tt = df.pivot_table( index='reviewerID',columns = 'asin',values = 'overall',dropna=False).reset_index().rename_axis(None, axis=1)\n",
    "tt.set_index('reviewerID',inplace=True)\n",
    "\n",
    "tt = tt.replace(np.nan,0)\n",
    "# tt = tt.drop(['reviewerID'],axis = 1)\n",
    "\n",
    "tt"
   ]
  },
  {
   "cell_type": "code",
   "execution_count": 441,
   "metadata": {},
   "outputs": [
    {
     "data": {
      "text/html": [
       "<div>\n",
       "<style scoped>\n",
       "    .dataframe tbody tr th:only-of-type {\n",
       "        vertical-align: middle;\n",
       "    }\n",
       "\n",
       "    .dataframe tbody tr th {\n",
       "        vertical-align: top;\n",
       "    }\n",
       "\n",
       "    .dataframe thead th {\n",
       "        text-align: right;\n",
       "    }\n",
       "</style>\n",
       "<table border=\"1\" class=\"dataframe\">\n",
       "  <thead>\n",
       "    <tr style=\"text-align: right;\">\n",
       "      <th></th>\n",
       "      <th>m1</th>\n",
       "      <th>m2</th>\n",
       "      <th>m3</th>\n",
       "      <th>m4</th>\n",
       "    </tr>\n",
       "    <tr>\n",
       "      <th>reviewerID</th>\n",
       "      <th></th>\n",
       "      <th></th>\n",
       "      <th></th>\n",
       "      <th></th>\n",
       "    </tr>\n",
       "  </thead>\n",
       "  <tbody>\n",
       "    <tr>\n",
       "      <th>u1</th>\n",
       "      <td>0.0</td>\n",
       "      <td>0.0</td>\n",
       "      <td>3.0</td>\n",
       "      <td>0.0</td>\n",
       "    </tr>\n",
       "    <tr>\n",
       "      <th>u2</th>\n",
       "      <td>0.0</td>\n",
       "      <td>3.0</td>\n",
       "      <td>0.0</td>\n",
       "      <td>0.0</td>\n",
       "    </tr>\n",
       "  </tbody>\n",
       "</table>\n",
       "</div>"
      ],
      "text/plain": [
       "             m1   m2   m3   m4\n",
       "reviewerID                    \n",
       "u1          0.0  0.0  3.0  0.0\n",
       "u2          0.0  3.0  0.0  0.0"
      ]
     },
     "execution_count": 441,
     "metadata": {},
     "output_type": "execute_result"
    }
   ],
   "source": [
    "# df.pivot_table(index='reviewerID', columns = 'asin',values = 'overall',dropna = False).reset_index()\n",
    "ttt = dft.pivot_table( index='reviewerID',columns = 'asin',values = 'overall',dropna=False).reset_index().rename_axis(None, axis=1)\n",
    "ttt.set_index('reviewerID',inplace=True)\n",
    "\n",
    "ttt = ttt.replace(np.nan,0)\n",
    "# tt = tt.drop(['reviewerID'],axis = 1)\n",
    "\n",
    "ttt\n"
   ]
  },
  {
   "cell_type": "code",
   "execution_count": 442,
   "metadata": {},
   "outputs": [
    {
     "data": {
      "text/html": [
       "<div>\n",
       "<style scoped>\n",
       "    .dataframe tbody tr th:only-of-type {\n",
       "        vertical-align: middle;\n",
       "    }\n",
       "\n",
       "    .dataframe tbody tr th {\n",
       "        vertical-align: top;\n",
       "    }\n",
       "\n",
       "    .dataframe thead th {\n",
       "        text-align: right;\n",
       "    }\n",
       "</style>\n",
       "<table border=\"1\" class=\"dataframe\">\n",
       "  <thead>\n",
       "    <tr style=\"text-align: right;\">\n",
       "      <th>asin</th>\n",
       "      <th>m1</th>\n",
       "      <th>m2</th>\n",
       "      <th>m3</th>\n",
       "      <th>m4</th>\n",
       "    </tr>\n",
       "    <tr>\n",
       "      <th>reviewerID</th>\n",
       "      <th></th>\n",
       "      <th></th>\n",
       "      <th></th>\n",
       "      <th></th>\n",
       "    </tr>\n",
       "  </thead>\n",
       "  <tbody>\n",
       "    <tr>\n",
       "      <th>u1</th>\n",
       "      <td>0</td>\n",
       "      <td>1</td>\n",
       "      <td>0</td>\n",
       "      <td>0</td>\n",
       "    </tr>\n",
       "    <tr>\n",
       "      <th>u2</th>\n",
       "      <td>1</td>\n",
       "      <td>0</td>\n",
       "      <td>0</td>\n",
       "      <td>1</td>\n",
       "    </tr>\n",
       "  </tbody>\n",
       "</table>\n",
       "</div>"
      ],
      "text/plain": [
       "asin        m1  m2  m3  m4\n",
       "reviewerID                \n",
       "u1           0   1   0   0\n",
       "u2           1   0   0   1"
      ]
     },
     "execution_count": 442,
     "metadata": {},
     "output_type": "execute_result"
    }
   ],
   "source": [
    "\n",
    "dfBin = pd.crosstab(index=df['reviewerID'], columns=df['asin'],dropna = False)\n",
    "dfBin"
   ]
  },
  {
   "cell_type": "code",
   "execution_count": 443,
   "metadata": {},
   "outputs": [
    {
     "data": {
      "text/html": [
       "<div>\n",
       "<style scoped>\n",
       "    .dataframe tbody tr th:only-of-type {\n",
       "        vertical-align: middle;\n",
       "    }\n",
       "\n",
       "    .dataframe tbody tr th {\n",
       "        vertical-align: top;\n",
       "    }\n",
       "\n",
       "    .dataframe thead th {\n",
       "        text-align: right;\n",
       "    }\n",
       "</style>\n",
       "<table border=\"1\" class=\"dataframe\">\n",
       "  <thead>\n",
       "    <tr style=\"text-align: right;\">\n",
       "      <th>asin</th>\n",
       "      <th>m1</th>\n",
       "      <th>m2</th>\n",
       "      <th>m3</th>\n",
       "      <th>m4</th>\n",
       "    </tr>\n",
       "    <tr>\n",
       "      <th>reviewerID</th>\n",
       "      <th></th>\n",
       "      <th></th>\n",
       "      <th></th>\n",
       "      <th></th>\n",
       "    </tr>\n",
       "  </thead>\n",
       "  <tbody>\n",
       "    <tr>\n",
       "      <th>u1</th>\n",
       "      <td>0</td>\n",
       "      <td>0</td>\n",
       "      <td>1</td>\n",
       "      <td>0</td>\n",
       "    </tr>\n",
       "    <tr>\n",
       "      <th>u2</th>\n",
       "      <td>0</td>\n",
       "      <td>1</td>\n",
       "      <td>0</td>\n",
       "      <td>0</td>\n",
       "    </tr>\n",
       "  </tbody>\n",
       "</table>\n",
       "</div>"
      ],
      "text/plain": [
       "asin        m1  m2  m3  m4\n",
       "reviewerID                \n",
       "u1           0   0   1   0\n",
       "u2           0   1   0   0"
      ]
     },
     "execution_count": 443,
     "metadata": {},
     "output_type": "execute_result"
    }
   ],
   "source": [
    "dfBint = pd.crosstab(index=dft['reviewerID'], columns=dft['asin'],dropna = False)\n",
    "dfBint"
   ]
  },
  {
   "cell_type": "code",
   "execution_count": 444,
   "metadata": {},
   "outputs": [],
   "source": [
    "cosTest = np.array([[1, 0.5, 0.25,0.25], [0.5, 1, 0.4,0.3],[0.25,0.4,1,0.6],[0.25,0.3,0.6,1]])"
   ]
  },
  {
   "cell_type": "code",
   "execution_count": 445,
   "metadata": {},
   "outputs": [],
   "source": [
    "m2mCosim = pd.DataFrame(cosTest)"
   ]
  },
  {
   "cell_type": "code",
   "execution_count": 446,
   "metadata": {},
   "outputs": [],
   "source": [
    "mul = np.dot(tt,m2mCosim)"
   ]
  },
  {
   "cell_type": "code",
   "execution_count": 447,
   "metadata": {},
   "outputs": [],
   "source": [
    "binMul = np.dot(dfBin,m2mCosim)"
   ]
  },
  {
   "cell_type": "code",
   "execution_count": 448,
   "metadata": {},
   "outputs": [],
   "source": [
    "finR = mul/binMul"
   ]
  },
  {
   "cell_type": "code",
   "execution_count": 449,
   "metadata": {},
   "outputs": [
    {
     "data": {
      "text/plain": [
       "array([[4.        , 4.        , 4.        , 4.        ],\n",
       "       [4.8       , 4.625     , 4.29411765, 4.2       ]])"
      ]
     },
     "execution_count": 449,
     "metadata": {},
     "output_type": "execute_result"
    }
   ],
   "source": [
    "finR"
   ]
  },
  {
   "cell_type": "code",
   "execution_count": 450,
   "metadata": {},
   "outputs": [
    {
     "data": {
      "text/html": [
       "<div>\n",
       "<style scoped>\n",
       "    .dataframe tbody tr th:only-of-type {\n",
       "        vertical-align: middle;\n",
       "    }\n",
       "\n",
       "    .dataframe tbody tr th {\n",
       "        vertical-align: top;\n",
       "    }\n",
       "\n",
       "    .dataframe thead th {\n",
       "        text-align: right;\n",
       "    }\n",
       "</style>\n",
       "<table border=\"1\" class=\"dataframe\">\n",
       "  <thead>\n",
       "    <tr style=\"text-align: right;\">\n",
       "      <th>asin</th>\n",
       "      <th>m1</th>\n",
       "      <th>m2</th>\n",
       "      <th>m3</th>\n",
       "      <th>m4</th>\n",
       "    </tr>\n",
       "    <tr>\n",
       "      <th>reviewerID</th>\n",
       "      <th></th>\n",
       "      <th></th>\n",
       "      <th></th>\n",
       "      <th></th>\n",
       "    </tr>\n",
       "  </thead>\n",
       "  <tbody>\n",
       "    <tr>\n",
       "      <th>u1</th>\n",
       "      <td>1</td>\n",
       "      <td>0</td>\n",
       "      <td>1</td>\n",
       "      <td>1</td>\n",
       "    </tr>\n",
       "    <tr>\n",
       "      <th>u2</th>\n",
       "      <td>0</td>\n",
       "      <td>1</td>\n",
       "      <td>1</td>\n",
       "      <td>0</td>\n",
       "    </tr>\n",
       "  </tbody>\n",
       "</table>\n",
       "</div>"
      ],
      "text/plain": [
       "asin        m1  m2  m3  m4\n",
       "reviewerID                \n",
       "u1           1   0   1   1\n",
       "u2           0   1   1   0"
      ]
     },
     "execution_count": 450,
     "metadata": {},
     "output_type": "execute_result"
    }
   ],
   "source": [
    "dfBin = 1- dfBin\n",
    "dfBin"
   ]
  },
  {
   "cell_type": "code",
   "execution_count": 451,
   "metadata": {},
   "outputs": [
    {
     "data": {
      "text/html": [
       "<div>\n",
       "<style scoped>\n",
       "    .dataframe tbody tr th:only-of-type {\n",
       "        vertical-align: middle;\n",
       "    }\n",
       "\n",
       "    .dataframe tbody tr th {\n",
       "        vertical-align: top;\n",
       "    }\n",
       "\n",
       "    .dataframe thead th {\n",
       "        text-align: right;\n",
       "    }\n",
       "</style>\n",
       "<table border=\"1\" class=\"dataframe\">\n",
       "  <thead>\n",
       "    <tr style=\"text-align: right;\">\n",
       "      <th>asin</th>\n",
       "      <th>m1</th>\n",
       "      <th>m2</th>\n",
       "      <th>m3</th>\n",
       "      <th>m4</th>\n",
       "    </tr>\n",
       "    <tr>\n",
       "      <th>reviewerID</th>\n",
       "      <th></th>\n",
       "      <th></th>\n",
       "      <th></th>\n",
       "      <th></th>\n",
       "    </tr>\n",
       "  </thead>\n",
       "  <tbody>\n",
       "    <tr>\n",
       "      <th>u1</th>\n",
       "      <td>1</td>\n",
       "      <td>0</td>\n",
       "      <td>0</td>\n",
       "      <td>1</td>\n",
       "    </tr>\n",
       "    <tr>\n",
       "      <th>u2</th>\n",
       "      <td>0</td>\n",
       "      <td>0</td>\n",
       "      <td>1</td>\n",
       "      <td>0</td>\n",
       "    </tr>\n",
       "  </tbody>\n",
       "</table>\n",
       "</div>"
      ],
      "text/plain": [
       "asin        m1  m2  m3  m4\n",
       "reviewerID                \n",
       "u1           1   0   0   1\n",
       "u2           0   0   1   0"
      ]
     },
     "execution_count": 451,
     "metadata": {},
     "output_type": "execute_result"
    }
   ],
   "source": [
    "newPred = dfBin - dfBint\n",
    "newPred"
   ]
  },
  {
   "cell_type": "code",
   "execution_count": 452,
   "metadata": {},
   "outputs": [
    {
     "data": {
      "text/html": [
       "<div>\n",
       "<style scoped>\n",
       "    .dataframe tbody tr th:only-of-type {\n",
       "        vertical-align: middle;\n",
       "    }\n",
       "\n",
       "    .dataframe tbody tr th {\n",
       "        vertical-align: top;\n",
       "    }\n",
       "\n",
       "    .dataframe thead th {\n",
       "        text-align: right;\n",
       "    }\n",
       "</style>\n",
       "<table border=\"1\" class=\"dataframe\">\n",
       "  <thead>\n",
       "    <tr style=\"text-align: right;\">\n",
       "      <th>asin</th>\n",
       "      <th>m1</th>\n",
       "      <th>m2</th>\n",
       "      <th>m3</th>\n",
       "      <th>m4</th>\n",
       "    </tr>\n",
       "    <tr>\n",
       "      <th>reviewerID</th>\n",
       "      <th></th>\n",
       "      <th></th>\n",
       "      <th></th>\n",
       "      <th></th>\n",
       "    </tr>\n",
       "  </thead>\n",
       "  <tbody>\n",
       "    <tr>\n",
       "      <th>u1</th>\n",
       "      <td>4.0</td>\n",
       "      <td>0.000</td>\n",
       "      <td>4.000000</td>\n",
       "      <td>4.0</td>\n",
       "    </tr>\n",
       "    <tr>\n",
       "      <th>u2</th>\n",
       "      <td>0.0</td>\n",
       "      <td>4.625</td>\n",
       "      <td>4.294118</td>\n",
       "      <td>0.0</td>\n",
       "    </tr>\n",
       "  </tbody>\n",
       "</table>\n",
       "</div>"
      ],
      "text/plain": [
       "asin         m1     m2        m3   m4\n",
       "reviewerID                           \n",
       "u1          4.0  0.000  4.000000  4.0\n",
       "u2          0.0  4.625  4.294118  0.0"
      ]
     },
     "execution_count": 452,
     "metadata": {},
     "output_type": "execute_result"
    }
   ],
   "source": [
    "predictedRating = dfBin*finR\n",
    "predictedRating\n"
   ]
  },
  {
   "cell_type": "code",
   "execution_count": 453,
   "metadata": {},
   "outputs": [
    {
     "data": {
      "text/html": [
       "<div>\n",
       "<style scoped>\n",
       "    .dataframe tbody tr th:only-of-type {\n",
       "        vertical-align: middle;\n",
       "    }\n",
       "\n",
       "    .dataframe tbody tr th {\n",
       "        vertical-align: top;\n",
       "    }\n",
       "\n",
       "    .dataframe thead th {\n",
       "        text-align: right;\n",
       "    }\n",
       "</style>\n",
       "<table border=\"1\" class=\"dataframe\">\n",
       "  <thead>\n",
       "    <tr style=\"text-align: right;\">\n",
       "      <th>asin</th>\n",
       "      <th>m1</th>\n",
       "      <th>m2</th>\n",
       "      <th>m3</th>\n",
       "      <th>m4</th>\n",
       "    </tr>\n",
       "    <tr>\n",
       "      <th>reviewerID</th>\n",
       "      <th></th>\n",
       "      <th></th>\n",
       "      <th></th>\n",
       "      <th></th>\n",
       "    </tr>\n",
       "  </thead>\n",
       "  <tbody>\n",
       "    <tr>\n",
       "      <th>u1</th>\n",
       "      <td>4.0</td>\n",
       "      <td>0.0</td>\n",
       "      <td>0.000000</td>\n",
       "      <td>4.0</td>\n",
       "    </tr>\n",
       "    <tr>\n",
       "      <th>u2</th>\n",
       "      <td>0.0</td>\n",
       "      <td>0.0</td>\n",
       "      <td>4.294118</td>\n",
       "      <td>0.0</td>\n",
       "    </tr>\n",
       "  </tbody>\n",
       "</table>\n",
       "</div>"
      ],
      "text/plain": [
       "asin         m1   m2        m3   m4\n",
       "reviewerID                         \n",
       "u1          4.0  0.0  0.000000  4.0\n",
       "u2          0.0  0.0  4.294118  0.0"
      ]
     },
     "execution_count": 453,
     "metadata": {},
     "output_type": "execute_result"
    }
   ],
   "source": [
    "newPred = newPred*predictedRating\n",
    "newPred"
   ]
  },
  {
   "cell_type": "code",
   "execution_count": 454,
   "metadata": {},
   "outputs": [
    {
     "data": {
      "text/html": [
       "<div>\n",
       "<style scoped>\n",
       "    .dataframe tbody tr th:only-of-type {\n",
       "        vertical-align: middle;\n",
       "    }\n",
       "\n",
       "    .dataframe tbody tr th {\n",
       "        vertical-align: top;\n",
       "    }\n",
       "\n",
       "    .dataframe thead th {\n",
       "        text-align: right;\n",
       "    }\n",
       "</style>\n",
       "<table border=\"1\" class=\"dataframe\">\n",
       "  <thead>\n",
       "    <tr style=\"text-align: right;\">\n",
       "      <th>asin</th>\n",
       "      <th>m1</th>\n",
       "      <th>m2</th>\n",
       "      <th>m3</th>\n",
       "      <th>m4</th>\n",
       "    </tr>\n",
       "    <tr>\n",
       "      <th>reviewerID</th>\n",
       "      <th></th>\n",
       "      <th></th>\n",
       "      <th></th>\n",
       "      <th></th>\n",
       "    </tr>\n",
       "  </thead>\n",
       "  <tbody>\n",
       "    <tr>\n",
       "      <th>u1</th>\n",
       "      <td>0.0</td>\n",
       "      <td>0.000</td>\n",
       "      <td>4.0</td>\n",
       "      <td>0.0</td>\n",
       "    </tr>\n",
       "    <tr>\n",
       "      <th>u2</th>\n",
       "      <td>0.0</td>\n",
       "      <td>4.625</td>\n",
       "      <td>0.0</td>\n",
       "      <td>0.0</td>\n",
       "    </tr>\n",
       "  </tbody>\n",
       "</table>\n",
       "</div>"
      ],
      "text/plain": [
       "asin         m1     m2   m3   m4\n",
       "reviewerID                      \n",
       "u1          0.0  0.000  4.0  0.0\n",
       "u2          0.0  4.625  0.0  0.0"
      ]
     },
     "execution_count": 454,
     "metadata": {},
     "output_type": "execute_result"
    }
   ],
   "source": [
    "newPredAlready = dfBint*predictedRating\n",
    "newPredAlready"
   ]
  },
  {
   "cell_type": "code",
   "execution_count": 455,
   "metadata": {},
   "outputs": [
    {
     "data": {
      "text/html": [
       "<div>\n",
       "<style scoped>\n",
       "    .dataframe tbody tr th:only-of-type {\n",
       "        vertical-align: middle;\n",
       "    }\n",
       "\n",
       "    .dataframe tbody tr th {\n",
       "        vertical-align: top;\n",
       "    }\n",
       "\n",
       "    .dataframe thead th {\n",
       "        text-align: right;\n",
       "    }\n",
       "</style>\n",
       "<table border=\"1\" class=\"dataframe\">\n",
       "  <thead>\n",
       "    <tr style=\"text-align: right;\">\n",
       "      <th>asin</th>\n",
       "      <th>reviewerID</th>\n",
       "      <th>m1</th>\n",
       "      <th>m2</th>\n",
       "      <th>m3</th>\n",
       "      <th>m4</th>\n",
       "    </tr>\n",
       "  </thead>\n",
       "  <tbody>\n",
       "    <tr>\n",
       "      <th>0</th>\n",
       "      <td>u1</td>\n",
       "      <td>4.0</td>\n",
       "      <td>0.000</td>\n",
       "      <td>4.000000</td>\n",
       "      <td>4.0</td>\n",
       "    </tr>\n",
       "    <tr>\n",
       "      <th>1</th>\n",
       "      <td>u2</td>\n",
       "      <td>0.0</td>\n",
       "      <td>4.625</td>\n",
       "      <td>4.294118</td>\n",
       "      <td>0.0</td>\n",
       "    </tr>\n",
       "  </tbody>\n",
       "</table>\n",
       "</div>"
      ],
      "text/plain": [
       "asin reviewerID   m1     m2        m3   m4\n",
       "0            u1  4.0  0.000  4.000000  4.0\n",
       "1            u2  0.0  4.625  4.294118  0.0"
      ]
     },
     "execution_count": 455,
     "metadata": {},
     "output_type": "execute_result"
    }
   ],
   "source": [
    "predictedRating.reset_index(inplace=True)\n",
    "predictedRating\n"
   ]
  },
  {
   "cell_type": "code",
   "execution_count": 456,
   "metadata": {},
   "outputs": [
    {
     "data": {
      "text/html": [
       "<div>\n",
       "<style scoped>\n",
       "    .dataframe tbody tr th:only-of-type {\n",
       "        vertical-align: middle;\n",
       "    }\n",
       "\n",
       "    .dataframe tbody tr th {\n",
       "        vertical-align: top;\n",
       "    }\n",
       "\n",
       "    .dataframe thead th {\n",
       "        text-align: right;\n",
       "    }\n",
       "</style>\n",
       "<table border=\"1\" class=\"dataframe\">\n",
       "  <thead>\n",
       "    <tr style=\"text-align: right;\">\n",
       "      <th>asin</th>\n",
       "      <th>reviewerID</th>\n",
       "      <th>m1</th>\n",
       "      <th>m2</th>\n",
       "      <th>m3</th>\n",
       "      <th>m4</th>\n",
       "    </tr>\n",
       "  </thead>\n",
       "  <tbody>\n",
       "    <tr>\n",
       "      <th>0</th>\n",
       "      <td>u1</td>\n",
       "      <td>4.0</td>\n",
       "      <td>NaN</td>\n",
       "      <td>NaN</td>\n",
       "      <td>4.0</td>\n",
       "    </tr>\n",
       "    <tr>\n",
       "      <th>1</th>\n",
       "      <td>u2</td>\n",
       "      <td>NaN</td>\n",
       "      <td>NaN</td>\n",
       "      <td>4.294118</td>\n",
       "      <td>NaN</td>\n",
       "    </tr>\n",
       "  </tbody>\n",
       "</table>\n",
       "</div>"
      ],
      "text/plain": [
       "asin reviewerID   m1  m2        m3   m4\n",
       "0            u1  4.0 NaN       NaN  4.0\n",
       "1            u2  NaN NaN  4.294118  NaN"
      ]
     },
     "execution_count": 456,
     "metadata": {},
     "output_type": "execute_result"
    }
   ],
   "source": [
    "\n",
    "newPred.reset_index(inplace=True)\n",
    "newPred = newPred.replace(0,np.nan)\n",
    "newPred"
   ]
  },
  {
   "cell_type": "code",
   "execution_count": 457,
   "metadata": {},
   "outputs": [
    {
     "data": {
      "text/html": [
       "<div>\n",
       "<style scoped>\n",
       "    .dataframe tbody tr th:only-of-type {\n",
       "        vertical-align: middle;\n",
       "    }\n",
       "\n",
       "    .dataframe tbody tr th {\n",
       "        vertical-align: top;\n",
       "    }\n",
       "\n",
       "    .dataframe thead th {\n",
       "        text-align: right;\n",
       "    }\n",
       "</style>\n",
       "<table border=\"1\" class=\"dataframe\">\n",
       "  <thead>\n",
       "    <tr style=\"text-align: right;\">\n",
       "      <th>asin</th>\n",
       "      <th>reviewerID</th>\n",
       "      <th>m1</th>\n",
       "      <th>m2</th>\n",
       "      <th>m3</th>\n",
       "      <th>m4</th>\n",
       "    </tr>\n",
       "  </thead>\n",
       "  <tbody>\n",
       "    <tr>\n",
       "      <th>0</th>\n",
       "      <td>u1</td>\n",
       "      <td>NaN</td>\n",
       "      <td>NaN</td>\n",
       "      <td>4.0</td>\n",
       "      <td>NaN</td>\n",
       "    </tr>\n",
       "    <tr>\n",
       "      <th>1</th>\n",
       "      <td>u2</td>\n",
       "      <td>NaN</td>\n",
       "      <td>4.625</td>\n",
       "      <td>NaN</td>\n",
       "      <td>NaN</td>\n",
       "    </tr>\n",
       "  </tbody>\n",
       "</table>\n",
       "</div>"
      ],
      "text/plain": [
       "asin reviewerID  m1     m2   m3  m4\n",
       "0            u1 NaN    NaN  4.0 NaN\n",
       "1            u2 NaN  4.625  NaN NaN"
      ]
     },
     "execution_count": 457,
     "metadata": {},
     "output_type": "execute_result"
    }
   ],
   "source": [
    "\n",
    "newPredAlready.reset_index(inplace=True)\n",
    "newPredAlready = newPredAlready.replace(0,np.nan)\n",
    "newPredAlready"
   ]
  },
  {
   "cell_type": "code",
   "execution_count": 458,
   "metadata": {},
   "outputs": [],
   "source": [
    "newPredAlreadyF = pd.melt(newPredAlready, id_vars='reviewerID', \n",
    "                                        value_vars=list(newPredAlready.columns[1:]),\n",
    "                                        var_name='asin', \n",
    "                                        value_name='rating')\n",
    "newPredAlreadyF = newPredAlreadyF[newPredAlreadyF['rating'].notna()]\n",
    "dftf = dft[dft['overall'].notna()]\n",
    "newPredAlreadyF = pd.merge(newPredAlreadyF, dftf, how='left',on=['reviewerID','asin'])\n",
    "newPredAlreadyF.drop(['title'],axis =1,inplace=True)"
   ]
  },
  {
   "cell_type": "code",
   "execution_count": 459,
   "metadata": {},
   "outputs": [
    {
     "data": {
      "text/html": [
       "<div>\n",
       "<style scoped>\n",
       "    .dataframe tbody tr th:only-of-type {\n",
       "        vertical-align: middle;\n",
       "    }\n",
       "\n",
       "    .dataframe tbody tr th {\n",
       "        vertical-align: top;\n",
       "    }\n",
       "\n",
       "    .dataframe thead th {\n",
       "        text-align: right;\n",
       "    }\n",
       "</style>\n",
       "<table border=\"1\" class=\"dataframe\">\n",
       "  <thead>\n",
       "    <tr style=\"text-align: right;\">\n",
       "      <th></th>\n",
       "      <th>reviewerID</th>\n",
       "      <th>asin</th>\n",
       "      <th>rating</th>\n",
       "      <th>overall</th>\n",
       "    </tr>\n",
       "  </thead>\n",
       "  <tbody>\n",
       "    <tr>\n",
       "      <th>0</th>\n",
       "      <td>u2</td>\n",
       "      <td>m2</td>\n",
       "      <td>4.625</td>\n",
       "      <td>3.0</td>\n",
       "    </tr>\n",
       "    <tr>\n",
       "      <th>1</th>\n",
       "      <td>u1</td>\n",
       "      <td>m3</td>\n",
       "      <td>4.000</td>\n",
       "      <td>3.0</td>\n",
       "    </tr>\n",
       "  </tbody>\n",
       "</table>\n",
       "</div>"
      ],
      "text/plain": [
       "  reviewerID asin  rating  overall\n",
       "0         u2   m2   4.625      3.0\n",
       "1         u1   m3   4.000      3.0"
      ]
     },
     "execution_count": 459,
     "metadata": {},
     "output_type": "execute_result"
    }
   ],
   "source": [
    "newPredAlreadyF"
   ]
  },
  {
   "cell_type": "code",
   "execution_count": 460,
   "metadata": {},
   "outputs": [],
   "source": [
    "newPredF = pd.melt(newPred, id_vars='reviewerID', \n",
    "                                        value_vars=list(newPred.columns[1:]),\n",
    "                                        var_name='asin', \n",
    "                                        value_name='rating')\n",
    "newPredF = newPredF[newPredF['rating'].notna()]\n"
   ]
  },
  {
   "cell_type": "code",
   "execution_count": 461,
   "metadata": {},
   "outputs": [
    {
     "data": {
      "text/html": [
       "<div>\n",
       "<style scoped>\n",
       "    .dataframe tbody tr th:only-of-type {\n",
       "        vertical-align: middle;\n",
       "    }\n",
       "\n",
       "    .dataframe tbody tr th {\n",
       "        vertical-align: top;\n",
       "    }\n",
       "\n",
       "    .dataframe thead th {\n",
       "        text-align: right;\n",
       "    }\n",
       "</style>\n",
       "<table border=\"1\" class=\"dataframe\">\n",
       "  <thead>\n",
       "    <tr style=\"text-align: right;\">\n",
       "      <th></th>\n",
       "      <th>reviewerID</th>\n",
       "      <th>asin</th>\n",
       "      <th>rating</th>\n",
       "    </tr>\n",
       "  </thead>\n",
       "  <tbody>\n",
       "    <tr>\n",
       "      <th>0</th>\n",
       "      <td>u1</td>\n",
       "      <td>m1</td>\n",
       "      <td>4.000000</td>\n",
       "    </tr>\n",
       "    <tr>\n",
       "      <th>5</th>\n",
       "      <td>u2</td>\n",
       "      <td>m3</td>\n",
       "      <td>4.294118</td>\n",
       "    </tr>\n",
       "    <tr>\n",
       "      <th>6</th>\n",
       "      <td>u1</td>\n",
       "      <td>m4</td>\n",
       "      <td>4.000000</td>\n",
       "    </tr>\n",
       "  </tbody>\n",
       "</table>\n",
       "</div>"
      ],
      "text/plain": [
       "  reviewerID asin    rating\n",
       "0         u1   m1  4.000000\n",
       "5         u2   m3  4.294118\n",
       "6         u1   m4  4.000000"
      ]
     },
     "execution_count": 461,
     "metadata": {},
     "output_type": "execute_result"
    }
   ],
   "source": [
    "newPredF"
   ]
  },
  {
   "cell_type": "code",
   "execution_count": 462,
   "metadata": {},
   "outputs": [
    {
     "data": {
      "text/html": [
       "<div>\n",
       "<style scoped>\n",
       "    .dataframe tbody tr th:only-of-type {\n",
       "        vertical-align: middle;\n",
       "    }\n",
       "\n",
       "    .dataframe tbody tr th {\n",
       "        vertical-align: top;\n",
       "    }\n",
       "\n",
       "    .dataframe thead th {\n",
       "        text-align: right;\n",
       "    }\n",
       "</style>\n",
       "<table border=\"1\" class=\"dataframe\">\n",
       "  <thead>\n",
       "    <tr style=\"text-align: right;\">\n",
       "      <th></th>\n",
       "      <th>reviewerID</th>\n",
       "      <th>asin</th>\n",
       "      <th>rating</th>\n",
       "      <th>overall</th>\n",
       "    </tr>\n",
       "  </thead>\n",
       "  <tbody>\n",
       "    <tr>\n",
       "      <th>0</th>\n",
       "      <td>u2</td>\n",
       "      <td>m2</td>\n",
       "      <td>4.625000</td>\n",
       "      <td>3.0</td>\n",
       "    </tr>\n",
       "    <tr>\n",
       "      <th>1</th>\n",
       "      <td>u1</td>\n",
       "      <td>m3</td>\n",
       "      <td>4.000000</td>\n",
       "      <td>3.0</td>\n",
       "    </tr>\n",
       "    <tr>\n",
       "      <th>2</th>\n",
       "      <td>u1</td>\n",
       "      <td>m1</td>\n",
       "      <td>4.000000</td>\n",
       "      <td>NaN</td>\n",
       "    </tr>\n",
       "    <tr>\n",
       "      <th>3</th>\n",
       "      <td>u2</td>\n",
       "      <td>m3</td>\n",
       "      <td>4.294118</td>\n",
       "      <td>NaN</td>\n",
       "    </tr>\n",
       "    <tr>\n",
       "      <th>4</th>\n",
       "      <td>u1</td>\n",
       "      <td>m4</td>\n",
       "      <td>4.000000</td>\n",
       "      <td>NaN</td>\n",
       "    </tr>\n",
       "  </tbody>\n",
       "</table>\n",
       "</div>"
      ],
      "text/plain": [
       "  reviewerID asin    rating  overall\n",
       "0         u2   m2  4.625000      3.0\n",
       "1         u1   m3  4.000000      3.0\n",
       "2         u1   m1  4.000000      NaN\n",
       "3         u2   m3  4.294118      NaN\n",
       "4         u1   m4  4.000000      NaN"
      ]
     },
     "execution_count": 462,
     "metadata": {},
     "output_type": "execute_result"
    }
   ],
   "source": [
    "\n",
    "comb = pd.concat([newPredAlreadyF, newPredF],ignore_index=True)\n",
    "comb"
   ]
  },
  {
   "cell_type": "code",
   "execution_count": 463,
   "metadata": {},
   "outputs": [],
   "source": [
    "comb = comb.replace(np.nan,0)"
   ]
  },
  {
   "cell_type": "code",
   "execution_count": 464,
   "metadata": {},
   "outputs": [
    {
     "data": {
      "text/html": [
       "<div>\n",
       "<style scoped>\n",
       "    .dataframe tbody tr th:only-of-type {\n",
       "        vertical-align: middle;\n",
       "    }\n",
       "\n",
       "    .dataframe tbody tr th {\n",
       "        vertical-align: top;\n",
       "    }\n",
       "\n",
       "    .dataframe thead th {\n",
       "        text-align: right;\n",
       "    }\n",
       "</style>\n",
       "<table border=\"1\" class=\"dataframe\">\n",
       "  <thead>\n",
       "    <tr style=\"text-align: right;\">\n",
       "      <th></th>\n",
       "      <th>reviewerID</th>\n",
       "      <th>asin</th>\n",
       "      <th>rating</th>\n",
       "      <th>overall</th>\n",
       "      <th>tup</th>\n",
       "    </tr>\n",
       "  </thead>\n",
       "  <tbody>\n",
       "    <tr>\n",
       "      <th>0</th>\n",
       "      <td>u2</td>\n",
       "      <td>m2</td>\n",
       "      <td>4.625000</td>\n",
       "      <td>3.0</td>\n",
       "      <td>(u2, m2, 4.625, 3.0)</td>\n",
       "    </tr>\n",
       "    <tr>\n",
       "      <th>1</th>\n",
       "      <td>u1</td>\n",
       "      <td>m3</td>\n",
       "      <td>4.000000</td>\n",
       "      <td>3.0</td>\n",
       "      <td>(u1, m3, 4.0, 3.0)</td>\n",
       "    </tr>\n",
       "    <tr>\n",
       "      <th>2</th>\n",
       "      <td>u1</td>\n",
       "      <td>m1</td>\n",
       "      <td>4.000000</td>\n",
       "      <td>0.0</td>\n",
       "      <td>(u1, m1, 4.0, 0.0)</td>\n",
       "    </tr>\n",
       "    <tr>\n",
       "      <th>3</th>\n",
       "      <td>u2</td>\n",
       "      <td>m3</td>\n",
       "      <td>4.294118</td>\n",
       "      <td>0.0</td>\n",
       "      <td>(u2, m3, 4.294117647058823, 0.0)</td>\n",
       "    </tr>\n",
       "    <tr>\n",
       "      <th>4</th>\n",
       "      <td>u1</td>\n",
       "      <td>m4</td>\n",
       "      <td>4.000000</td>\n",
       "      <td>0.0</td>\n",
       "      <td>(u1, m4, 4.0, 0.0)</td>\n",
       "    </tr>\n",
       "  </tbody>\n",
       "</table>\n",
       "</div>"
      ],
      "text/plain": [
       "  reviewerID asin    rating  overall                               tup\n",
       "0         u2   m2  4.625000      3.0              (u2, m2, 4.625, 3.0)\n",
       "1         u1   m3  4.000000      3.0                (u1, m3, 4.0, 3.0)\n",
       "2         u1   m1  4.000000      0.0                (u1, m1, 4.0, 0.0)\n",
       "3         u2   m3  4.294118      0.0  (u2, m3, 4.294117647058823, 0.0)\n",
       "4         u1   m4  4.000000      0.0                (u1, m4, 4.0, 0.0)"
      ]
     },
     "execution_count": 464,
     "metadata": {},
     "output_type": "execute_result"
    }
   ],
   "source": [
    "\n",
    "comb['tup'] = tuple(zip(comb.reviewerID, comb.asin,comb.rating,comb.overall))\n",
    "\n",
    "comb\n",
    "\n"
   ]
  },
  {
   "cell_type": "code",
   "execution_count": 465,
   "metadata": {},
   "outputs": [],
   "source": [
    "predictions = list(comb.tup)"
   ]
  },
  {
   "cell_type": "code",
   "execution_count": null,
   "metadata": {},
   "outputs": [],
   "source": []
  },
  {
   "cell_type": "code",
   "execution_count": 319,
   "metadata": {},
   "outputs": [
    {
     "data": {
      "text/html": [
       "<div>\n",
       "<style scoped>\n",
       "    .dataframe tbody tr th:only-of-type {\n",
       "        vertical-align: middle;\n",
       "    }\n",
       "\n",
       "    .dataframe tbody tr th {\n",
       "        vertical-align: top;\n",
       "    }\n",
       "\n",
       "    .dataframe thead th {\n",
       "        text-align: right;\n",
       "    }\n",
       "</style>\n",
       "<table border=\"1\" class=\"dataframe\">\n",
       "  <thead>\n",
       "    <tr style=\"text-align: right;\">\n",
       "      <th></th>\n",
       "      <th>reviewerID</th>\n",
       "      <th>movie</th>\n",
       "      <th>rating</th>\n",
       "    </tr>\n",
       "  </thead>\n",
       "  <tbody>\n",
       "    <tr>\n",
       "      <th>0</th>\n",
       "      <td>u1</td>\n",
       "      <td>m1</td>\n",
       "      <td>4.000000</td>\n",
       "    </tr>\n",
       "    <tr>\n",
       "      <th>1</th>\n",
       "      <td>u2</td>\n",
       "      <td>m1</td>\n",
       "      <td>0.000000</td>\n",
       "    </tr>\n",
       "    <tr>\n",
       "      <th>2</th>\n",
       "      <td>u1</td>\n",
       "      <td>m2</td>\n",
       "      <td>0.000000</td>\n",
       "    </tr>\n",
       "    <tr>\n",
       "      <th>3</th>\n",
       "      <td>u2</td>\n",
       "      <td>m2</td>\n",
       "      <td>4.625000</td>\n",
       "    </tr>\n",
       "    <tr>\n",
       "      <th>4</th>\n",
       "      <td>u1</td>\n",
       "      <td>m3</td>\n",
       "      <td>4.000000</td>\n",
       "    </tr>\n",
       "    <tr>\n",
       "      <th>5</th>\n",
       "      <td>u2</td>\n",
       "      <td>m3</td>\n",
       "      <td>4.294118</td>\n",
       "    </tr>\n",
       "    <tr>\n",
       "      <th>6</th>\n",
       "      <td>u1</td>\n",
       "      <td>m4</td>\n",
       "      <td>4.000000</td>\n",
       "    </tr>\n",
       "    <tr>\n",
       "      <th>7</th>\n",
       "      <td>u2</td>\n",
       "      <td>m4</td>\n",
       "      <td>0.000000</td>\n",
       "    </tr>\n",
       "  </tbody>\n",
       "</table>\n",
       "</div>"
      ],
      "text/plain": [
       "  reviewerID movie    rating\n",
       "0         u1    m1  4.000000\n",
       "1         u2    m1  0.000000\n",
       "2         u1    m2  0.000000\n",
       "3         u2    m2  4.625000\n",
       "4         u1    m3  4.000000\n",
       "5         u2    m3  4.294118\n",
       "6         u1    m4  4.000000\n",
       "7         u2    m4  0.000000"
      ]
     },
     "execution_count": 319,
     "metadata": {},
     "output_type": "execute_result"
    }
   ],
   "source": [
    "predictedRating = pd.melt(predictedRating, id_vars='reviewerID', \n",
    "                                        value_vars=list(predictedRating.columns[1:]),\n",
    "                                        var_name='movie', \n",
    "                                        value_name='rating')\n",
    "predictedRating"
   ]
  },
  {
   "cell_type": "code",
   "execution_count": null,
   "metadata": {},
   "outputs": [],
   "source": [
    "#     userMovieMatching = 1 - userMovieMatching\n",
    "#     userMoviePredictMissingMovies = userMoviePredict * userMovieMatching\n",
    "#     userMoviePredictMissingMovies = userMoviePredictMissingMovies.reset_index()\n",
    "#     userMoviePredictMissingMovies = userMoviePredictMissingMovies.replace(0,np.nan)\n",
    "#     userMoviePredictMissingMovies = pd.melt(userMoviePredictMissingMovies, id_vars='reviewerID', \n",
    "#                                         value_vars=list(finRM.columns[1:]),\n",
    "#                                         var_name='movie', \n",
    "#                                         value_name='rating')\n",
    "#     userMoviePredictMissingMovies = userMoviePredictMissingMovies[userMoviePredictMissingMovies['rating'].notna()]\n",
    "#     userMoviePredictMissingMovies = userMoviePredictMissingMovies.reset_index(drop=True)\n",
    "#     userMoviePredictMissingMovies['value'] = tuple(zip(userMoviePredictMissingMovies.movie, \n",
    "#                                                   userMoviePredictMissingMovies.ratings))\n",
    "#     predictions = pd.Series(userMoviePredictMissingMovies['value'].values,\n",
    "#                             index=userMoviePredictMissingMovies.reviewerID).to_dict()"
   ]
  },
  {
   "cell_type": "code",
   "execution_count": null,
   "metadata": {},
   "outputs": [],
   "source": []
  },
  {
   "cell_type": "code",
   "execution_count": null,
   "metadata": {},
   "outputs": [],
   "source": []
  },
  {
   "cell_type": "code",
   "execution_count": null,
   "metadata": {},
   "outputs": [],
   "source": []
  },
  {
   "cell_type": "code",
   "execution_count": null,
   "metadata": {},
   "outputs": [],
   "source": []
  },
  {
   "cell_type": "code",
   "execution_count": null,
   "metadata": {},
   "outputs": [],
   "source": []
  },
  {
   "cell_type": "code",
   "execution_count": null,
   "metadata": {},
   "outputs": [],
   "source": []
  },
  {
   "cell_type": "code",
   "execution_count": null,
   "metadata": {},
   "outputs": [],
   "source": []
  },
  {
   "cell_type": "code",
   "execution_count": null,
   "metadata": {},
   "outputs": [],
   "source": []
  },
  {
   "cell_type": "code",
   "execution_count": null,
   "metadata": {},
   "outputs": [],
   "source": []
  },
  {
   "cell_type": "code",
   "execution_count": null,
   "metadata": {},
   "outputs": [],
   "source": []
  },
  {
   "cell_type": "code",
   "execution_count": 16,
   "metadata": {},
   "outputs": [],
   "source": [
    "# Based on field in and type\n",
    "def getSurpriseRatingPrediction(data, ratingCol, testSplit, algo, userBased):\n",
    "    ratings_dict = {'itemID': list(data.asin),\n",
    "                'userID': list(data.reviewerID),\n",
    "                'rating': list(data[ratingCol])}\n",
    "    df = pd.DataFrame(ratings_dict)\n",
    "    \n",
    "    # A reader is still needed but only the rating_scale param is required.\n",
    "    # The Reader class is used to parse a file containing ratings.\n",
    "    reader = Reader(rating_scale=(0.5, 5.0))\n",
    "    # The columns must correspond to user id, item id and ratings (in that order).\n",
    "    data = Dataset.load_from_df(df[['userID', 'itemID', 'rating']], reader)\n",
    "    trainset, testset = train_test_split(data, test_size=testSplit)\n",
    "    if algo == 'svd':\n",
    "        algo = SVD()\n",
    "    elif algo == 'knn':\n",
    "        sim_options = {'name': 'cosine',\n",
    "               'user_based': userBased\n",
    "               }\n",
    "        algo = algo = KNNBaseline(sim_options=sim_options)\n",
    "    algo.fit(trainset)\n",
    "    print('mean',trainset.global_mean)\n",
    "    predictions = algo.test(testset)\n",
    "    return predictions\n",
    "    "
   ]
  },
  {
   "cell_type": "code",
   "execution_count": 17,
   "metadata": {},
   "outputs": [],
   "source": [
    "def getPredictions(rdata, moviedata, testSplit, topN):\n",
    "    # get SVD predictions\n",
    "    svdPredictions = getSurpriseRatingPrediction(rdata, 'overall', testSplit, 'svd', False )\n",
    "    \n",
    "    #get Knn user based predictions based on ratings\n",
    "    userBasedKNNPredictions = getSurpriseRatingPrediction(rdata, 'overall', testSplit, 'knn', True)\n",
    "    \n",
    "    #get Knn movie based predictions based on ratings\n",
    "    ratingBasedKNNPredictions = getSurpriseRatingPrediction(rdata, 'overall', testSplit, 'knn', False)\n",
    "    \n",
    "    #get Knn movie based predictions based on reviews\n",
    "    rdata = generateSentimentScoreOnReviews(rdata)\n",
    "    reviewBasedKNNPredictions = getSurpriseRatingPrediction(rdata, 'reviewRating', testSplit, 'knn', False)\n",
    "    \n",
    "    #get content based predictions\n",
    "    contentBasedPredictions = getPredictionFromMovieContent(moviedata, rdata, testSplit)\n",
    "    \n",
    "    topNRec = getFinalRec(svdPredictions, userBasedKNNPredictions,\n",
    "                                           ratingBasedKNNPredictions, reviewBasedKNNPredictions,\n",
    "                                          contentBasedPredictions, topN)\n",
    "    return topNRec\n",
    "    \n",
    "    "
   ]
  },
  {
   "cell_type": "code",
   "execution_count": 156,
   "metadata": {},
   "outputs": [],
   "source": [
    "def mergeDict(dictList):\n",
    "    mergeDict = defaultdict(list)\n",
    "    for dictEach in dictList:\n",
    "        for key, val in dictEach.items(): \n",
    "            mergeDict[key].append(val)\n",
    "    \n",
    "    newMergeDic = defaultdict(list)\n",
    "    for user, userList in mergeDict.items():\n",
    "        eachUser = defaultdict(list)\n",
    "        for movie, rating in userList:\n",
    "            eachUser[movie].append(rating)\n",
    "        movieL = eachUser[movie]\n",
    "        eachUser[movie] = sum(movieL) / len(movieL)\n",
    "        newMergeDic[user] = dict(eachUser)\n",
    "    return newMergeDic"
   ]
  },
  {
   "cell_type": "code",
   "execution_count": 18,
   "metadata": {},
   "outputs": [],
   "source": [
    "# Combine all the predictions score by weighted average\n",
    "def combinePredictions(svdPredictions, userBasedKNNPredictions,\n",
    "                                           ratingBasedKNNPredictions, reviewBasedKNNPredictions,\n",
    "                                          contentBasedPredictions):\n",
    "    svdPredictionsNew = defaultdict(list)\n",
    "    for uid, iid, true_r, est, _ in svdPredictions:\n",
    "            svdPredictionsNew[uid].append((iid, est))\n",
    "    \n",
    "    \n",
    "    userBasedKNNPredictionsNew = defaultdict(list)\n",
    "    for uid, iid, true_r, est, _ in userBasedKNNPredictions:\n",
    "            userBasedKNNPredictionsNew[uid].append((iid, est))\n",
    "            \n",
    "    ratingBasedKNNPredictionsNew = defaultdict(list)\n",
    "    for uid, iid, true_r, est, _ in ratingBasedKNNPredictions:\n",
    "            ratingBasedKNNPredictionsNew[uid].append((iid, est))\n",
    "    \n",
    "    reviewBasedKNNPredictionsNew = defaultdict(list)\n",
    "    for uid, iid, true_r, est, _ in reviewBasedKNNPredictions:\n",
    "            reviewBasedKNNPredictionsNew[uid].append((iid, est))\n",
    "    \n",
    "    combinedPred = [svdPredictionsNew, userBasedKNNPredictionsNew, \n",
    "                    ratingBasedKNNPredictionsNew, reviewBasedKNNPredictionsNew,\n",
    "                   contentBasedPredictions]\n",
    "    # contentBasedPredictions is already of the form like above\n",
    "    # TODO: add scores of different methods and recommend\n",
    "    \n",
    "    return top_recs\n",
    "    "
   ]
  },
  {
   "cell_type": "code",
   "execution_count": 207,
   "metadata": {},
   "outputs": [],
   "source": [
    "a = {'a':('m1',3), 'b':('m2',4),'d':('m2',4)}\n",
    "b = {'c':('m1',3), 'b':('m2',3)}\n",
    "c = {'c':('m1',3), 'b':('m1',5)}\n",
    "d = {'a':('m1',3), 'c':('m2',2), 'b':('m2',4)}\n"
   ]
  },
  {
   "cell_type": "code",
   "execution_count": 208,
   "metadata": {},
   "outputs": [
    {
     "data": {
      "text/plain": [
       "[{'a': ('m1', 3), 'b': ('m2', 4), 'd': ('m2', 4)},\n",
       " {'c': ('m1', 3), 'b': ('m2', 3)},\n",
       " {'c': ('m1', 3), 'b': ('m1', 5)},\n",
       " {'a': ('m1', 3), 'c': ('m2', 2), 'b': ('m2', 4)}]"
      ]
     },
     "execution_count": 208,
     "metadata": {},
     "output_type": "execute_result"
    }
   ],
   "source": [
    "dicts = [a ,b ,c, d]\n",
    "dicts"
   ]
  },
  {
   "cell_type": "code",
   "execution_count": 209,
   "metadata": {},
   "outputs": [
    {
     "data": {
      "text/plain": [
       "defaultdict(list,\n",
       "            {'a': [('m1', 3), ('m1', 3)],\n",
       "             'b': [('m2', 4), ('m2', 3), ('m1', 5), ('m2', 4)],\n",
       "             'd': [('m2', 4)],\n",
       "             'c': [('m1', 3), ('m1', 3), ('m2', 2)]})"
      ]
     },
     "execution_count": 209,
     "metadata": {},
     "output_type": "execute_result"
    }
   ],
   "source": [
    "mergeDict = defaultdict(list)\n",
    "for dictEach in dicts:\n",
    "    for key, val in dictEach.items(): \n",
    "        mergeDict[key].append(val)\n",
    "mergeDict"
   ]
  },
  {
   "cell_type": "code",
   "execution_count": 210,
   "metadata": {},
   "outputs": [],
   "source": [
    "t = [('m1', 3), ('m1', 4)]\n"
   ]
  },
  {
   "cell_type": "code",
   "execution_count": 212,
   "metadata": {},
   "outputs": [],
   "source": [
    "newMergeDic = defaultdict(list)\n",
    "for user, movieList in mergeDict.items():\n",
    "    movieDict = defaultdict(list)\n",
    "    for movie, rating in movieList:\n",
    "#         print(user,'   ',movie,'   ',rating)\n",
    "        movieDict[movie].append(rating)\n",
    "#         print(movieDict)\n",
    "    movieL = movieDict[movie]\n",
    "#     print(movieL)\n",
    "#     movieDict[movie] = sum(movieL) / len(movieL)\n",
    "    newMergeDic[user] = dict(movieDict)"
   ]
  },
  {
   "cell_type": "code",
   "execution_count": 214,
   "metadata": {},
   "outputs": [
    {
     "data": {
      "text/plain": [
       "{'a': {'m1': [3, 3]},\n",
       " 'b': {'m2': [4, 3, 4], 'm1': [5]},\n",
       " 'd': {'m2': [4]},\n",
       " 'c': {'m1': [3, 3], 'm2': [2]}}"
      ]
     },
     "execution_count": 214,
     "metadata": {},
     "output_type": "execute_result"
    }
   ],
   "source": [
    "dict(newMergeDic)"
   ]
  },
  {
   "cell_type": "code",
   "execution_count": 201,
   "metadata": {},
   "outputs": [
    {
     "data": {
      "text/plain": [
       "{'a': {'m1': 3.0},\n",
       " 'b': {'m2': 3.6666666666666665, 'm1': [5]},\n",
       " 'd': {'m2': 4.0},\n",
       " 'c': {'m1': [3, 3], 'm2': 2.0}}"
      ]
     },
     "execution_count": 201,
     "metadata": {},
     "output_type": "execute_result"
    }
   ],
   "source": [
    "dict(newMergeDic)"
   ]
  },
  {
   "cell_type": "code",
   "execution_count": 139,
   "metadata": {},
   "outputs": [
    {
     "data": {
      "text/plain": [
       "{'m1': 4}"
      ]
     },
     "execution_count": 139,
     "metadata": {},
     "output_type": "execute_result"
    }
   ],
   "source": [
    "for user, userList in mergeDict:\n",
    "        eachUser = defaultdict(list)\n",
    "        for movie, rating in userList:\n",
    "            eachUser[movie].append(rating)"
   ]
  },
  {
   "cell_type": "code",
   "execution_count": null,
   "metadata": {},
   "outputs": [],
   "source": []
  },
  {
   "cell_type": "code",
   "execution_count": null,
   "metadata": {},
   "outputs": [],
   "source": []
  },
  {
   "cell_type": "code",
   "execution_count": 21,
   "metadata": {},
   "outputs": [],
   "source": [
    "def getFinalRec(svdPredictions, userBasedKNNPredictions,\n",
    "                                           ratingBasedKNNPredictions, reviewBasedKNNPredictions,\n",
    "                                          contentBasedPredictions, topN):\n",
    "    \n",
    "    predictions = combinePredictions(svdPredictions, userBasedKNNPredictions,\n",
    "                                           ratingBasedKNNPredictions, reviewBasedKNNPredictions,\n",
    "                                          contentBasedPredictions)\n",
    "    \n",
    "    for uid, user_ratings in top_recs.items():\n",
    "        user_ratings.sort(key = lambda x: x[1], reverse = True)\n",
    "        top_recs[uid] = user_ratings[:topN]\n",
    "    return top_recs\n",
    "    "
   ]
  },
  {
   "cell_type": "code",
   "execution_count": 22,
   "metadata": {},
   "outputs": [],
   "source": [
    "'''\n",
    "movies = pd.read_csv('movies.csv')\n",
    "movies_dict = {'itemID': list(movies.movieId),\n",
    "                'title': list(movies.title)}\n",
    "df2 = pd.DataFrame(movies_dict)\n",
    "'''\n",
    "# svd\n",
    "rmse = []\n",
    "size = []"
   ]
  },
  {
   "cell_type": "code",
   "execution_count": 28,
   "metadata": {},
   "outputs": [],
   "source": [
    "rdata = pd.read_csv(reviewDataPath, names=['reviewerID','asin','reviewerName','helpful','reviewText','overall','summary','unixReviewTime','reviewTime'], skiprows=1, sep='\\t')\n",
    "rdata.reset_index(inplace=True)\n",
    "rdata = rdata.drop(['index'],axis =1)\n",
    "moviedata = pd.read_json(metadataPath,lines=True,typ='frame')\n",
    "testSplit = 0.5"
   ]
  },
  {
   "cell_type": "code",
   "execution_count": 26,
   "metadata": {},
   "outputs": [],
   "source": []
  },
  {
   "cell_type": "code",
   "execution_count": null,
   "metadata": {},
   "outputs": [],
   "source": [
    "# read data as sample pandas dataframe\n",
    "\n",
    "for i in arange(0.05, 1, 0.05):\n",
    "    getPredictions(rdata, moviedata, i, topN)\n",
    "    size.append(i)\n",
    "    rmse.append(accuracy.rmse(predictions, verbose=True))\n",
    "    top3_recommendations = get_top3_recommendations(predictions)\n",
    "    #print('top recommendations for SVD', top3_recommendations)\n",
    "    \n",
    "    rmse1.append(accuracy.rmse(predictions1, verbose=True))\n",
    "    top3_recommendations = get_top3_recommendations(predictions1)\n",
    "    #print('top recommendations using Item-Item sim', top3_recommendations)\n",
    "    \n",
    "    rmse2.append(accuracy.rmse(predictions2, verbose=True))\n",
    "    top3_recommendations = get_top3_recommendations(predictions2)\n",
    "    #print('top recommendations using User-User sim', top3_recommendations)\n",
    "    \n",
    "    #for uid, user_ratings in top3_recommendations.items():\n",
    "        #print(uid, [df2.loc[df2['itemID'] == iid, 'title'].iloc[0] for (iid, _) in user_ratings])\n",
    "        #print(uid, [result['itemID'] == iid for (iid, _) in user_ratings])\n",
    "        #print(uid, [result.loc[result['itemID'] == iid, 'title'].iloc[0] for (iid, _) in user_ratings])\n",
    "    #precisions, recalls = precision_recall_at_k(predictions, k=3, threshold=4)\n",
    "\n",
    "    # Precision and recall can then be averaged over all users\n",
    "    #print(sum(prec for prec in precisions.values()) / len(precisions))\n",
    "    #print(sum(rec for rec in recalls.values()) / len(recalls))"
   ]
  },
  {
   "cell_type": "code",
   "execution_count": null,
   "metadata": {},
   "outputs": [],
   "source": [
    "\n",
    "plt.style.use('seaborn-whitegrid')\n",
    "fig = plt.figure()\n",
    "ax = plt.axes()\n",
    "plt.plot(size, rmse)\n",
    "plt.show()"
   ]
  }
 ],
 "metadata": {
  "colab": {
   "collapsed_sections": [],
   "name": "svd.ipynb",
   "provenance": []
  },
  "kernelspec": {
   "display_name": "Python 3",
   "language": "python",
   "name": "python3"
  },
  "language_info": {
   "codemirror_mode": {
    "name": "ipython",
    "version": 3
   },
   "file_extension": ".py",
   "mimetype": "text/x-python",
   "name": "python",
   "nbconvert_exporter": "python",
   "pygments_lexer": "ipython3",
   "version": "3.7.3"
  }
 },
 "nbformat": 4,
 "nbformat_minor": 1
}
